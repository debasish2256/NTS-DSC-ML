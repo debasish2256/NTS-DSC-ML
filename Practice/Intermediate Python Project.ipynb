{
 "cells": [
  {
   "cell_type": "code",
   "execution_count": null,
   "metadata": {
    "collapsed": true
   },
   "outputs": [],
   "source": [
    "# Read the names and marks of at least 3 students\n",
    "# Rank the top three students with highest marks\n",
    "# Give cash rewards. $500 for first rank, $300 for second rank, $100 for third rank. Value cannot be modified\n",
    "# Appreciate students who secured 950 marks and above\n",
    "\n",
    "import operator\n",
    "\n",
    "def readStudentDetails():\n",
    "    print()\n",
    "    # { 'John': 600, 'Ben': 800, 'David': 950, 'Mark': 980}\n",
    "    print(\"Enter the number of students: \")\n",
    "    numberOfStudents = int(input())\n",
    "    studentRecord = {}\n",
    "    for student in range(0, numberOfStudents):\n",
    "        print(\"Enter the name of the student: \")\n",
    "        name = input()\n",
    "        print(\"Enter the marks of students: \")\n",
    "        marks = int(input())\n",
    "        studentRecord[name] = marks\n",
    "    print()\n",
    "    return studentRecord\n",
    "\n",
    "\n",
    "def rankStudents(studentRecord):\n",
    "    try:\n",
    "        print()\n",
    "        # [('Mark', 980), ('David', 950), ('Ben', 800), ('John', 600)]\n",
    "        sortedStudentRecord = sorted(studentRecord.items(), key = operator.itemgetter(1), reverse = True)\n",
    "        print(sortedStudentRecord)\n",
    "        print(\"{} has secured first rank, scoring {} marks\".format(sortedStudentRecord[0][0], sortedStudentRecord[0][1]))\n",
    "        print(\"{} has secured second rank, scoring {} marks\".format(sortedStudentRecord[1][0], sortedStudentRecord[1][1]))\n",
    "        print(\"{} has secured third rank, scoring {} marks\".format(sortedStudentRecord[2][0], sortedStudentRecord[2][1]))\n",
    "        print()\n",
    "        return sortedStudentRecord\n",
    "    except IndexError:\n",
    "        print(\"Enter a minimum of 3 students\")\n",
    "        quit()\n",
    "\n",
    "\n",
    "def rewardStudents(sortedStudentRecord, reward):\n",
    "    print()\n",
    "    print(\"{} has received a cash reward of ${}\".format(sortedStudentRecord[0][0], reward[0]))\n",
    "    print(\"{} has received a cash reward of ${}\".format(sortedStudentRecord[1][0], reward[1]))\n",
    "    print(\"{} has received a cash reward of ${}\".format(sortedStudentRecord[2][0], reward[2]))\n",
    "    print()\n",
    "\n",
    "\n",
    "def appreciateStudents(sortedStudentRecord):\n",
    "    print()\n",
    "    for record in sortedStudentRecord:\n",
    "        if record[1] >= 950:\n",
    "            print(\"Congratulations on scoring {} marks, {}\".format(record[1], record[0]))\n",
    "        else:\n",
    "            break\n",
    "    print()\n",
    "\n",
    "\n",
    "studentRecord = readStudentDetails()\n",
    "sortedStudentRecord = rankStudents(studentRecord)\n",
    "reward = (500, 300, 100)\n",
    "rewardStudents(sortedStudentRecord, reward)\n",
    "appreciateStudents(sortedStudentRecord)\n"
   ]
  },
  {
   "cell_type": "code",
   "execution_count": null,
   "metadata": {
    "collapsed": true
   },
   "outputs": [],
   "source": []
  }
 ],
 "metadata": {
  "kernelspec": {
   "display_name": "Python 3",
   "language": "python",
   "name": "python3"
  },
  "language_info": {
   "codemirror_mode": {
    "name": "ipython",
    "version": 3
   },
   "file_extension": ".py",
   "mimetype": "text/x-python",
   "name": "python",
   "nbconvert_exporter": "python",
   "pygments_lexer": "ipython3",
   "version": "3.6.3"
  }
 },
 "nbformat": 4,
 "nbformat_minor": 2
}
