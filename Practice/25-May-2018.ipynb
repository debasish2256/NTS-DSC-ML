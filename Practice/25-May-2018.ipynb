{
 "cells": [
  {
   "cell_type": "code",
   "execution_count": 1,
   "metadata": {},
   "outputs": [
    {
     "name": "stdout",
     "output_type": "stream",
     "text": [
      "Hello World\n"
     ]
    }
   ],
   "source": [
    "print(\"Hello World\")"
   ]
  },
  {
   "cell_type": "code",
   "execution_count": 2,
   "metadata": {},
   "outputs": [
    {
     "name": "stdout",
     "output_type": "stream",
     "text": [
      "95\n"
     ]
    }
   ],
   "source": [
    "#VariableName=value\n",
    "total=95\n",
    "print(total)"
   ]
  },
  {
   "cell_type": "code",
   "execution_count": 5,
   "metadata": {},
   "outputs": [
    {
     "name": "stdout",
     "output_type": "stream",
     "text": [
      "90 \n",
      "\n",
      "100\n"
     ]
    }
   ],
   "source": [
    "'''What are the rules for declaring a variable?\n",
    "- Variable name should start with an alphabet or underscore (‘_’) followed by any number of alphabets, digits and underscores\n",
    "- Variable names are case sensitive.\n",
    "Example: phoneNumber is different from PhoneNumber and phonenumber\n",
    "- Variable name cannot be a reserved name\n",
    "Example: print, if, for, etc\n",
    "- Variable name cannot contain any special character other than underscore'''\n",
    "\n",
    "tot=90\n",
    "Tot=100\n",
    "print(tot,'\\n')\n",
    "print(Tot)\n"
   ]
  },
  {
   "cell_type": "code",
   "execution_count": 7,
   "metadata": {},
   "outputs": [
    {
     "name": "stdout",
     "output_type": "stream",
     "text": [
      "12345\n"
     ]
    }
   ],
   "source": [
    "# Declaration of a valid variable\n",
    "phoneNumber = 12345\n",
    "print(phoneNumber)\n",
    "\n",
    "# Output => 12345"
   ]
  },
  {
   "cell_type": "code",
   "execution_count": 8,
   "metadata": {},
   "outputs": [
    {
     "ename": "SyntaxError",
     "evalue": "invalid syntax (<ipython-input-8-5f252e907655>, line 1)",
     "output_type": "error",
     "traceback": [
      "\u001b[1;36m  File \u001b[1;32m\"<ipython-input-8-5f252e907655>\"\u001b[1;36m, line \u001b[1;32m1\u001b[0m\n\u001b[1;33m    break = 50\u001b[0m\n\u001b[1;37m          ^\u001b[0m\n\u001b[1;31mSyntaxError\u001b[0m\u001b[1;31m:\u001b[0m invalid syntax\n"
     ]
    }
   ],
   "source": [
    "break = 50\n",
    "print(break)\n",
    "\n",
    "# This will result in a syntax error since 'break' is a reserved word. It violates Rule #3 of using a keyword as a variable name.\n"
   ]
  },
  {
   "cell_type": "code",
   "execution_count": 9,
   "metadata": {},
   "outputs": [
    {
     "name": "stdout",
     "output_type": "stream",
     "text": [
      "12345\n",
      "Benny\n"
     ]
    }
   ],
   "source": [
    "# phone$number = 12345 violates Rule #4 of using a special character other than an underscore as a part of the variable name\n",
    "# It can be corrected as follows:\n",
    "phone_number = 12345\n",
    "print(phone_number)\n",
    "\n",
    "# 123Name violates Rule #1 of a variable name not beginning with an alphabet or an underscore. \n",
    "# It can be corrected as follows:\n",
    "name123 = \"Benny\"\n",
    "print(name123)\n",
    "\n",
    "# Output => 12345\n",
    "#           Benny\n"
   ]
  },
  {
   "cell_type": "code",
   "execution_count": 14,
   "metadata": {},
   "outputs": [
    {
     "name": "stdout",
     "output_type": "stream",
     "text": [
      "25\n",
      "<class 'int'>\n",
      "<class 'float'>\n"
     ]
    }
   ],
   "source": [
    "# Assign a floating point number 25.77 to the variable temperature\n",
    "temperature = 25.77\n",
    "temperature1 = 25.77\n",
    "# Typecast the number to type integer\n",
    "temperature = int(25.77)\n",
    "\n",
    "print(temperature)\n",
    "# Output => 25\n",
    "print(type(temperature))\n",
    "print(type(temperature1))"
   ]
  },
  {
   "cell_type": "code",
   "execution_count": 11,
   "metadata": {},
   "outputs": [
    {
     "name": "stdout",
     "output_type": "stream",
     "text": [
      "25\n"
     ]
    }
   ],
   "source": [
    "# Assign an integer value 25 to the variable age\n",
    "age = 25\n",
    "print(age)\n",
    "\n",
    "# Output => 25\n"
   ]
  },
  {
   "cell_type": "code",
   "execution_count": 30,
   "metadata": {},
   "outputs": [
    {
     "name": "stdout",
     "output_type": "stream",
     "text": [
      "\n"
     ]
    }
   ],
   "source": [
    "'''OPERATORS\n",
    "1. What is an operator ?\n",
    "An operator is an action performed between two operands\n",
    "Example: 2 + 3 where ‘+’ is the operator and 2 and 3 are the operands. Addition is the action\n",
    "performed in this operation.\n",
    "2. What are the different types of operators ?\n",
    "Operators are broadly classified into the following:\n",
    "1. Assignment Operator (‘=‘) => Assigns the value at the right hand side to the variable at the\n",
    "left hand side\n",
    "2. Arithmetic Operators\n",
    "- Multiplication (‘*’) => Returns the product of two operands. Example: 3 * 3 returns 9\n",
    "- Division (‘/‘) => Returns the quotient of two operands. Example: 100/10 returns 10\n",
    "- Addition (‘+’)=> Returns the sum of two operands. Example: 2 + 2 returns 4\n",
    "- Subtraction (‘-‘) => Returns the difference between two operands. Example: 10 - 7\n",
    "return 3\n",
    "- Modulo (‘%’)=> Returns the remainder from the division performed between two\n",
    "operands. Example: 10 % 7 returns 3\n",
    "3. Relational or Comparison Operators\n",
    "- Equal to (‘==‘) => Returns true if both the operands are equal.\n",
    "Example: (2 == 2)\n",
    "- Greater than (‘>’) => Returns true if operand 1 is greater than operand 2.\n",
    "Example: (1 > 2)\n",
    "- Lesser than (‘<‘) => Returns true if operand 1 is lesser than operand 2.\n",
    "Example: (2 > 1)\n",
    "- Greater than or equal to (‘>=’) => Returns true if operand 1 is greater than or equal to\n",
    "operand 2. Example: (2 >= 2)\n",
    "- Lesser than or equal to (‘<=‘) => Returns true if operand 1 is lesser than or equal to\n",
    "operand 2. Example: (2 <= 2)\n",
    "- Not equal to (!=) => Returns true if operand 1 is not equal to operand 2.\n",
    "Example (2 != 3)\n",
    "4. Logical Operators\n",
    "- and => Returns true only if both the operands are true. Example: ((5 > 3) and (3 < 5))\n",
    "- or => Returns true if at least among the operands is true. Example: ((5 < 3) or (3 < 5))\n",
    "- not => Reverses the boolean value of the operand. Example not(5<3) returns True\n",
    "(reverse of False).'''\n",
    "\n",
    "print()\n"
   ]
  },
  {
   "cell_type": "code",
   "execution_count": 28,
   "metadata": {},
   "outputs": [
    {
     "data": {
      "text/plain": [
       "4"
      ]
     },
     "execution_count": 28,
     "metadata": {},
     "output_type": "execute_result"
    }
   ],
   "source": [
    "2+2"
   ]
  },
  {
   "cell_type": "code",
   "execution_count": 27,
   "metadata": {},
   "outputs": [
    {
     "data": {
      "text/plain": [
       "2"
      ]
     },
     "execution_count": 27,
     "metadata": {},
     "output_type": "execute_result"
    }
   ],
   "source": [
    "10-8\n"
   ]
  },
  {
   "cell_type": "code",
   "execution_count": 22,
   "metadata": {},
   "outputs": [
    {
     "data": {
      "text/plain": [
       "16"
      ]
     },
     "execution_count": 22,
     "metadata": {},
     "output_type": "execute_result"
    }
   ],
   "source": [
    "4*4\n"
   ]
  },
  {
   "cell_type": "code",
   "execution_count": 24,
   "metadata": {},
   "outputs": [
    {
     "data": {
      "text/plain": [
       "2.0"
      ]
     },
     "execution_count": 24,
     "metadata": {},
     "output_type": "execute_result"
    }
   ],
   "source": [
    "10/5\n"
   ]
  },
  {
   "cell_type": "code",
   "execution_count": 25,
   "metadata": {},
   "outputs": [
    {
     "data": {
      "text/plain": [
       "2"
      ]
     },
     "execution_count": 25,
     "metadata": {},
     "output_type": "execute_result"
    }
   ],
   "source": [
    "10//5\n"
   ]
  },
  {
   "cell_type": "code",
   "execution_count": 26,
   "metadata": {},
   "outputs": [
    {
     "data": {
      "text/plain": [
       "5"
      ]
     },
     "execution_count": 26,
     "metadata": {},
     "output_type": "execute_result"
    }
   ],
   "source": [
    "15%10"
   ]
  },
  {
   "cell_type": "code",
   "execution_count": 31,
   "metadata": {},
   "outputs": [
    {
     "data": {
      "text/plain": [
       "True"
      ]
     },
     "execution_count": 31,
     "metadata": {},
     "output_type": "execute_result"
    }
   ],
   "source": [
    "2<5"
   ]
  },
  {
   "cell_type": "code",
   "execution_count": 32,
   "metadata": {},
   "outputs": [
    {
     "data": {
      "text/plain": [
       "False"
      ]
     },
     "execution_count": 32,
     "metadata": {},
     "output_type": "execute_result"
    }
   ],
   "source": [
    "5<5"
   ]
  },
  {
   "cell_type": "code",
   "execution_count": 33,
   "metadata": {},
   "outputs": [
    {
     "data": {
      "text/plain": [
       "True"
      ]
     },
     "execution_count": 33,
     "metadata": {},
     "output_type": "execute_result"
    }
   ],
   "source": [
    "5<=5"
   ]
  },
  {
   "cell_type": "code",
   "execution_count": 34,
   "metadata": {},
   "outputs": [
    {
     "data": {
      "text/plain": [
       "False"
      ]
     },
     "execution_count": 34,
     "metadata": {},
     "output_type": "execute_result"
    }
   ],
   "source": [
    "6<=5"
   ]
  },
  {
   "cell_type": "code",
   "execution_count": 35,
   "metadata": {},
   "outputs": [
    {
     "data": {
      "text/plain": [
       "True"
      ]
     },
     "execution_count": 35,
     "metadata": {},
     "output_type": "execute_result"
    }
   ],
   "source": [
    "5>2"
   ]
  },
  {
   "cell_type": "code",
   "execution_count": 36,
   "metadata": {},
   "outputs": [
    {
     "data": {
      "text/plain": [
       "False"
      ]
     },
     "execution_count": 36,
     "metadata": {},
     "output_type": "execute_result"
    }
   ],
   "source": [
    "2>5"
   ]
  },
  {
   "cell_type": "code",
   "execution_count": 37,
   "metadata": {},
   "outputs": [
    {
     "data": {
      "text/plain": [
       "True"
      ]
     },
     "execution_count": 37,
     "metadata": {},
     "output_type": "execute_result"
    }
   ],
   "source": [
    "5>=5"
   ]
  },
  {
   "cell_type": "code",
   "execution_count": 38,
   "metadata": {},
   "outputs": [
    {
     "data": {
      "text/plain": [
       "False"
      ]
     },
     "execution_count": 38,
     "metadata": {},
     "output_type": "execute_result"
    }
   ],
   "source": [
    "5>=6"
   ]
  },
  {
   "cell_type": "code",
   "execution_count": 39,
   "metadata": {},
   "outputs": [
    {
     "data": {
      "text/plain": [
       "True"
      ]
     },
     "execution_count": 39,
     "metadata": {},
     "output_type": "execute_result"
    }
   ],
   "source": [
    "5==5"
   ]
  },
  {
   "cell_type": "code",
   "execution_count": 40,
   "metadata": {},
   "outputs": [
    {
     "data": {
      "text/plain": [
       "False"
      ]
     },
     "execution_count": 40,
     "metadata": {},
     "output_type": "execute_result"
    }
   ],
   "source": [
    "2==5"
   ]
  },
  {
   "cell_type": "code",
   "execution_count": 41,
   "metadata": {},
   "outputs": [
    {
     "data": {
      "text/plain": [
       "False"
      ]
     },
     "execution_count": 41,
     "metadata": {},
     "output_type": "execute_result"
    }
   ],
   "source": [
    "5!=5"
   ]
  },
  {
   "cell_type": "code",
   "execution_count": 42,
   "metadata": {},
   "outputs": [
    {
     "data": {
      "text/plain": [
       "True"
      ]
     },
     "execution_count": 42,
     "metadata": {},
     "output_type": "execute_result"
    }
   ],
   "source": [
    "2!=5"
   ]
  },
  {
   "cell_type": "code",
   "execution_count": 43,
   "metadata": {},
   "outputs": [
    {
     "data": {
      "text/plain": [
       "True"
      ]
     },
     "execution_count": 43,
     "metadata": {},
     "output_type": "execute_result"
    }
   ],
   "source": [
    "2<5 and 5<10"
   ]
  },
  {
   "cell_type": "code",
   "execution_count": 44,
   "metadata": {},
   "outputs": [
    {
     "data": {
      "text/plain": [
       "False"
      ]
     },
     "execution_count": 44,
     "metadata": {},
     "output_type": "execute_result"
    }
   ],
   "source": [
    "2<5 and 5>10"
   ]
  },
  {
   "cell_type": "code",
   "execution_count": 45,
   "metadata": {},
   "outputs": [
    {
     "data": {
      "text/plain": [
       "True"
      ]
     },
     "execution_count": 45,
     "metadata": {},
     "output_type": "execute_result"
    }
   ],
   "source": [
    "2<5 or 5<10"
   ]
  },
  {
   "cell_type": "code",
   "execution_count": 46,
   "metadata": {},
   "outputs": [
    {
     "data": {
      "text/plain": [
       "True"
      ]
     },
     "execution_count": 46,
     "metadata": {},
     "output_type": "execute_result"
    }
   ],
   "source": [
    "5>10 or 2<5"
   ]
  },
  {
   "cell_type": "code",
   "execution_count": 48,
   "metadata": {},
   "outputs": [
    {
     "data": {
      "text/plain": [
       "False"
      ]
     },
     "execution_count": 48,
     "metadata": {},
     "output_type": "execute_result"
    }
   ],
   "source": [
    "2>5"
   ]
  },
  {
   "cell_type": "code",
   "execution_count": 49,
   "metadata": {},
   "outputs": [
    {
     "data": {
      "text/plain": [
       "True"
      ]
     },
     "execution_count": 49,
     "metadata": {},
     "output_type": "execute_result"
    }
   ],
   "source": [
    "not(2>5)"
   ]
  },
  {
   "cell_type": "code",
   "execution_count": 50,
   "metadata": {},
   "outputs": [
    {
     "name": "stdout",
     "output_type": "stream",
     "text": [
      "14\n"
     ]
    }
   ],
   "source": [
    "print(2 + 3 * 4)\n",
    "# Output => 14\n",
    "\n",
    "# If you had obtained the result of 24 while solving it manually, you need to know the order of operators while solving an equation.\n",
    "# BODMAS order of operations is used in Mathematics while solving an equation where brackets such as '(...)' are solved first,\n",
    "# followed by orders such as root and square of numbers, followed by division operation, then the multiplication followed by addition\n",
    "# and finally subtraction\n",
    "#\n",
    "# If you wanted the output of the equation to be 24, you need to re-order the equation as follows:\n",
    "# (2+3) * 4 which would solve the equation 2 + 3 within the bracket\n",
    "# and then multiply it with 4 and thus returning the result of 24\n"
   ]
  },
  {
   "cell_type": "code",
   "execution_count": 51,
   "metadata": {},
   "outputs": [
    {
     "name": "stdout",
     "output_type": "stream",
     "text": [
      "30\n"
     ]
    }
   ],
   "source": [
    "# Declare two variables\n",
    "lengthOne = 20\n",
    "lengthTwo = 10\n",
    "\n",
    "# Add two variables and print the result\n",
    "print(lengthOne + lengthTwo)\n",
    "\n",
    "# Output => 30\n"
   ]
  },
  {
   "cell_type": "code",
   "execution_count": 1,
   "metadata": {},
   "outputs": [
    {
     "name": "stdout",
     "output_type": "stream",
     "text": [
      "True\n"
     ]
    }
   ],
   "source": [
    "# 5 > 2 returns the result true , 10 < 20 returns the result true. \n",
    "# When both the operands of a logical AND operation are true, the result is true\n",
    "print(5 > 2 and 10 < 20)\n",
    "\n",
    "# Output => True\n"
   ]
  },
  {
   "cell_type": "code",
   "execution_count": 2,
   "metadata": {},
   "outputs": [
    {
     "data": {
      "text/plain": [
       "'apple'"
      ]
     },
     "execution_count": 2,
     "metadata": {},
     "output_type": "execute_result"
    }
   ],
   "source": [
    "s=\"apple\"\n",
    "s"
   ]
  },
  {
   "cell_type": "code",
   "execution_count": 3,
   "metadata": {},
   "outputs": [
    {
     "data": {
      "text/plain": [
       "'a'"
      ]
     },
     "execution_count": 3,
     "metadata": {},
     "output_type": "execute_result"
    }
   ],
   "source": [
    "s[0]"
   ]
  },
  {
   "cell_type": "code",
   "execution_count": 4,
   "metadata": {},
   "outputs": [
    {
     "data": {
      "text/plain": [
       "'e'"
      ]
     },
     "execution_count": 4,
     "metadata": {},
     "output_type": "execute_result"
    }
   ],
   "source": [
    "s[4]"
   ]
  },
  {
   "cell_type": "code",
   "execution_count": 5,
   "metadata": {},
   "outputs": [
    {
     "data": {
      "text/plain": [
       "'e'"
      ]
     },
     "execution_count": 5,
     "metadata": {},
     "output_type": "execute_result"
    }
   ],
   "source": [
    "s[-1]"
   ]
  },
  {
   "cell_type": "code",
   "execution_count": 6,
   "metadata": {},
   "outputs": [
    {
     "data": {
      "text/plain": [
       "'l'"
      ]
     },
     "execution_count": 6,
     "metadata": {},
     "output_type": "execute_result"
    }
   ],
   "source": [
    "s[-2]"
   ]
  },
  {
   "cell_type": "code",
   "execution_count": 16,
   "metadata": {},
   "outputs": [
    {
     "name": "stdout",
     "output_type": "stream",
     "text": [
      "python is a high level language\n",
      "python is a high level language\n"
     ]
    }
   ],
   "source": [
    "p=\"python\"\n",
    "print(\"{} is a high level language\".format(p))\n",
    "print(p + \" is a high level language\")"
   ]
  },
  {
   "cell_type": "code",
   "execution_count": 17,
   "metadata": {},
   "outputs": [
    {
     "name": "stdout",
     "output_type": "stream",
     "text": [
      "easy\n",
      "Python programming is easy and powerful\n"
     ]
    }
   ],
   "source": [
    "# Declare a string\n",
    "text = \"Python programming is easy\"\n",
    "# Slice the string from index 22 to 26 to extract the string 'easy' and store it in a variable\n",
    "slicedText = text[22:26]\n",
    "print(slicedText)\n",
    "# Replace 'easy' with ' and powerful' in the variable 'slicedText'\n",
    "slicedText = slicedText.replace('easy',' and powerful')\n",
    "# Concatenation is adding two strings which can be done using '+' operator\n",
    "concatenatedString = text + slicedText\n",
    "print(concatenatedString)\n",
    "\n",
    "# Output => \"Python programming is easy and powerful\"\n"
   ]
  },
  {
   "cell_type": "code",
   "execution_count": 18,
   "metadata": {},
   "outputs": [
    {
     "name": "stdout",
     "output_type": "stream",
     "text": [
      "Python programming is easy\n"
     ]
    }
   ],
   "source": [
    "# Declare a string\n",
    "text = \"Python programming is easy\"\n",
    "print(text)\n",
    "\n",
    "# Output => \"Python programming is easy\"\n"
   ]
  },
  {
   "cell_type": "code",
   "execution_count": 19,
   "metadata": {},
   "outputs": [
    {
     "name": "stdout",
     "output_type": "stream",
     "text": [
      "easy\n"
     ]
    }
   ],
   "source": [
    "# Declare a string\n",
    "text = \"Python programming is easy\"\n",
    "# Slice the string from index 22 to 26 to extract the string 'easy' and store it in a variable\n",
    "slicedText = text[22:26]\n",
    "print(slicedText)\n",
    "\n",
    "# Output => \"easy\"\n"
   ]
  },
  {
   "cell_type": "code",
   "execution_count": 4,
   "metadata": {},
   "outputs": [
    {
     "name": "stdout",
     "output_type": "stream",
     "text": [
      "[1, 3, 5, 7, 9]\n"
     ]
    }
   ],
   "source": [
    "# Create a list to store 5 odd numbers\n",
    "oddNumbers = [1, 3, 5, 7, 9]\n",
    "print(oddNumbers)\n",
    "\n",
    "# Output => [1, 3, 5, 7, 9]\n"
   ]
  },
  {
   "cell_type": "code",
   "execution_count": 5,
   "metadata": {},
   "outputs": [
    {
     "name": "stdout",
     "output_type": "stream",
     "text": [
      "[1, 3, 15, 7, 9]\n"
     ]
    }
   ],
   "source": [
    "# Create a list to store 5 odd numbers\n",
    "oddNumbers = [1, 3, 5, 7, 9]\n",
    "# Update the element at the third position\n",
    "oddNumbers[2] = 15\n",
    "print(oddNumbers)\n",
    "\n",
    "# Output => [1, 3, 15, 7, 9]\n"
   ]
  },
  {
   "cell_type": "code",
   "execution_count": 6,
   "metadata": {},
   "outputs": [
    {
     "name": "stdout",
     "output_type": "stream",
     "text": [
      "[1, 3, 15, 7, 9, 2, 4, 6]\n"
     ]
    }
   ],
   "source": [
    "# Create a list to store 5 odd numbers\n",
    "oddNumbers = [1, 3, 5, 7, 9]\n",
    "# Update the element at the third position\n",
    "oddNumbers[2] = 15\n",
    "# create a list to store even numbers\n",
    "evenNumbers = [2, 4, 6]\n",
    "# Perform concatenation to join both the lists by using '+' operator\n",
    "concatenatedList = oddNumbers + evenNumbers\n",
    "print(concatenatedList)\n",
    "\n",
    "# Output => [1, 3, 15, 7, 9, 2, 4, 6]\n"
   ]
  },
  {
   "cell_type": "code",
   "execution_count": 8,
   "metadata": {},
   "outputs": [
    {
     "name": "stdout",
     "output_type": "stream",
     "text": [
      "(2016, 2020, 2024, 2028)\n"
     ]
    }
   ],
   "source": [
    "# Create a tuple of 4 elements\n",
    "leapYear = (2016, 2020, 2024, 2028)\n",
    "print(leapYear)\n",
    "\n",
    "# Output => (2016, 2020, 2024, 2028)"
   ]
  },
  {
   "cell_type": "code",
   "execution_count": 7,
   "metadata": {},
   "outputs": [
    {
     "name": "stdout",
     "output_type": "stream",
     "text": [
      "[2016, 2020, 2024, 2028]\n"
     ]
    }
   ],
   "source": [
    "# Create a tuple of 4 elements\n",
    "leapYear = (2016, 2020, 2024, 2028)\n",
    "# To convert the tuple into a list, perform a typecasting\n",
    "leapYearList = list(leapYear)\n",
    "print(leapYearList)\n",
    "\n",
    "# Output => [2016, 2020, 2024, 2028]\n"
   ]
  },
  {
   "cell_type": "code",
   "execution_count": 9,
   "metadata": {},
   "outputs": [
    {
     "name": "stdout",
     "output_type": "stream",
     "text": [
      "(2020, 2024, 2028)\n"
     ]
    }
   ],
   "source": [
    "# Create a tuple of 4 elements\n",
    "leapYear = (2016, 2020, 2024, 2028)\n",
    "# To convert the tuple into a list, perform a typecasting\n",
    "leapYearList = list(leapYear)\n",
    "# Delete first element of list\n",
    "del leapYearList[0]\n",
    "# To convert the list to tuple, perform a typecasting\n",
    "convertedLeapYearTuple = tuple(leapYearList)\n",
    "print(convertedLeapYearTuple)\n",
    "\n",
    "# Output => (2020, 2024, 2028)\n",
    "#{\"threads\":[{\"position\":0,\"start\":0,\"end\":184,\"connection\":\"open\"},{\"position\":367,\"start\":185,\"end\":367,\"connection\":\"closed\"}],\"url\":\"https://udemy-assets-on-demand.udemy.com/2017-05-08_03-31-09-253edef76b85cd09f7008d1eea3e5f76/original.py?nva=20180520164147&download=True&filename=Exercise-Solution-Tuples-Hard.py&token=074267b2704739c852ce6\",\"method\":\"GET\",\"port\":443,\"downloadSize\":367,\"headers\":{\"content-length\":\"367\",\"content-type\":\"application/force-download\",\"etag\":\"\\\"809888d3e53dbd9e5083b325802765e9\\\"\",\"last-modified\":\"Mon, 08 May 2017 03:31:10 GMT\",\"accept-ranges\":\"bytes\",\"server\":\"AmazonS3\",\"access-control-allow-origin\":\"*\",\"x-amz-id-2\":\"yFwk2wxGXIJogfduoCGGHx94tIsUmh867SYEhmHb7Lpy41Op/ZuiupqO3NBYviXuD30czmJ6Dco=\",\"x-amz-meta-qqfilename\":\"Exercise%20Solution%20-%20Tuples(Hard).py\",\"x-amz-replication-status\":\"COMPLETED\",\"x-amz-request-id\":\"B8616070F34048F4\",\"x-amz-version-id\":\"ZE9Sp2UbymAHtGIJaB6KzBmhC6MbrMGc\",\"content-disposition\":\"attachment; filename=Exercise-Solution-Tuples-Hard.py\",\"date\":\"Sun, 20 May 2018 12:14:59 GMT\",\"connection\":\"close\"}}                                                                                                                                                                                                                                                                                                                                                                                                                                                                                                                                                                                                                                                                                                                                                                                                                                                                                                                                                                                                                                                                                                                                                                                                                                                                                                                                                                                                                                                                                                                                                                                                                                                                                                                                                                                                                                                                                                                                                                                                                                                                                                                                                                                                                                                                                                                                                                                                                                                                                                                                                                                                                                                                                                                                                                                                                                                                                                                                                                                                                                                                                                                                                                                                                                                                                                                                                                                                                                                                                                                                                                                                                                                                                                                                                                                                                                                                                                                                                                                                                                                                                                                                                                                                                                                                                                                                                                                                                                                                                                                                                                                                                                                                                                                                                                                                                                                                                                                                                                                                                                                                                                                                                                                                                                                                                                                                                                                                                                                                                                                                                                                                                                                                                                                                                                                                                                                                                                                                                                                                                                                                                                                                                                                                                                                                                                                                                                                                                                                                                                                                                                                                                                                                                                                                                                                                                                                                                                                                                                                                                                                                                                                                                                                                                                                                                                                                                                                                                                                                                                                                                                                                                                                                                                                                                                                                                                                                                                                                                                                                                                                                                                                                                                                                                                                                                                                                                                                                                                                                                                                                                                                                                                                                                                                                                                                                                                                                                                                                                                                                                                                                                                                                                                                                                                                                                                                                                                                                                                                                                                                                                 "
   ]
  },
  {
   "cell_type": "code",
   "execution_count": 12,
   "metadata": {},
   "outputs": [
    {
     "name": "stdout",
     "output_type": "stream",
     "text": [
      "{'Ben': 25, 'Matthew': 32, 'Mark': 28, 'Mary': 21, 'Leon': 23}\n"
     ]
    }
   ],
   "source": [
    "# Create a dictionary to store the age of 5 employees\n",
    "ageOfEmployees = {'Ben': 25, 'Matthew': 32, 'Mark': 28, 'Mary': 21, 'Leon': 23}\n",
    "print(ageOfEmployees)\n",
    "\n",
    "# Output => {'Ben': 25, 'Matthew': 32, 'Mark': 28, 'Mary': 21, 'Leon': 23}\n"
   ]
  },
  {
   "cell_type": "code",
   "execution_count": 11,
   "metadata": {},
   "outputs": [
    {
     "name": "stdout",
     "output_type": "stream",
     "text": [
      "{'Ben': 25, 'Matthew': 35, 'Mark': 28, 'Mary': 21, 'Leon': 23}\n"
     ]
    }
   ],
   "source": [
    "# Create a dictionary to store the age of 5 employees\n",
    "ageOfEmployees = {'Ben': 25, 'Matthew': 32, 'Mark': 28, 'Mary': 21, 'Leon': 23}\n",
    "# Update the age of Matthew\n",
    "ageOfEmployees['Matthew'] = 35\n",
    "print(ageOfEmployees)\n",
    "\n",
    "# Output => {'Ben': 25, 'Matthew': 35, 'Mark': 28, 'Mary': 21, 'Leon': 23}\n"
   ]
  },
  {
   "cell_type": "code",
   "execution_count": 10,
   "metadata": {},
   "outputs": [
    {
     "name": "stdout",
     "output_type": "stream",
     "text": [
      "copyOfAgeOfEmployees = {'Ben': 25, 'Matthew': 35, 'Mark': 28, 'Mary': 21, 'Leon': 23}\n",
      "ageOfEmployees = {}\n"
     ]
    }
   ],
   "source": [
    "# Create a dictionary to store the age of 5 employees\n",
    "ageOfEmployees = {'Ben': 25, 'Matthew': 32, 'Mark': 28, 'Mary': 21, 'Leon': 23}\n",
    "# Update the age of Matthew\n",
    "ageOfEmployees['Matthew'] = 35\n",
    "copyOfAgeOfEmployees = ageOfEmployees.copy()\n",
    "ageOfEmployees.clear()\n",
    "print('copyOfAgeOfEmployees = {}'.format(copyOfAgeOfEmployees))\n",
    "print('ageOfEmployees = {}'.format(ageOfEmployees))\n",
    "\n",
    "# Output => copyOfAgeOfEmployees = {'Ben': 25, 'Matthew': 35, 'Mark': 28, 'Mary': 21, 'Leon': 23}\n",
    "#        => ageOfEmployees = {}\n"
   ]
  },
  {
   "cell_type": "code",
   "execution_count": 18,
   "metadata": {},
   "outputs": [
    {
     "name": "stdout",
     "output_type": "stream",
     "text": [
      "2 is less than 10\n"
     ]
    }
   ],
   "source": [
    "# Check if 2 is less than 10\n",
    "if 2 < 10:\n",
    "  print('2 is less than 10')\n",
    "\n",
    "# Output => 2 is less than 10\n",
    "#{\"threads\":[{\"position\":51,\"start\":0,\"end\":50,\"connection\":\"closed\"},{\"position\":51,\"start\":51,\"end\":100,\"connection\":\"open\"}],\"url\":\"https://udemy-assets-on-demand.udemy.com/2017-05-08_03-57-49-26e575b8a6ec8b0fd0e13c0bd6bd756b/original.py?nva=20180520164147&filename=Exercise-Solution-Conditionals-Easy.py&download=True&token=0936d7f31d24d8392e233\",\"method\":\"GET\",\"port\":443,\"downloadSize\":100,\"headers\":{\"content-length\":\"100\",\"content-type\":\"application/force-download\",\"etag\":\"\\\"da699ad909ca70779d316812414684da\\\"\",\"last-modified\":\"Mon, 08 May 2017 03:57:50 GMT\",\"accept-ranges\":\"bytes\",\"server\":\"AmazonS3\",\"access-control-allow-origin\":\"*\",\"x-amz-id-2\":\"wFy+whdDIbA+CVsSaXjaormnVZOgDTRrY6nzVceodZ4F6PJJvHsBS4PGvcl1JAuPawmbdLDsWWw=\",\"x-amz-meta-qqfilename\":\"Exercise%20Solution%20-%20Conditionals(Easy).py\",\"x-amz-replication-status\":\"COMPLETED\",\"x-amz-request-id\":\"F4EDDD253EF68002\",\"x-amz-version-id\":\"3qBXuhVFMJGuHhzf4POVRH72bajO0fco\",\"content-disposition\":\"attachment; filename=Exercise-Solution-Conditionals-Easy.py\",\"date\":\"Sun, 20 May 2018 12:17:09 GMT\",\"connection\":\"close\"}}                                                                                                                                                                                                                                                                                                                                                                                                                                                                                                                                                                                                                                                                                                                                                                                                                                                                                                                                                                                                                                                                                                                                                                                                                                                                                                                                                                                                                                                                                                                                                                                                                                                                                                                                                                                                                                                                                                                                                                                                                                                                                                                                                                                                                                                                                                                                                                                                                                                                                                                                                                                                                                                                                                                                                                                                                                                                                                                                                                                                                                                                                                                                                                                                                                                                                                                                                                                                                                                                                                                                                                                                                                                                                                                                                                                                                                                                                                                                                                                                                                                                                                                                                                                                                                                                                                                                                                                                                                                                                                                                                                                                                                                                                                                                                                                                                                                                                                                                                                                                                                                                                                                                                                                                                                                                                                                                                                                                                                                                                                                                                                                                                                                                                                                                                                                                                                                                                                                                                                                                                                                                                                                                                                                                                                                                                                                                                                                                                                                                                                                                                                                                                                                                                                                                                                                                                                                                                                                                                                                                                                                                                                                                                                                                                                                                                                                                                                                                                                                                                                                                                                                                                                                                                                                                                                                                                                                                                                                                                                                                                                                                                                                                                                                                                                                                                                                                                                                                                                                                                                                                                                                                                                                                                                                                                                                                                                                                                                                                                                                                                                                                                                                                                                                                                                                                                                                                                                                                                                                                                                                                 "
   ]
  },
  {
   "cell_type": "code",
   "execution_count": 15,
   "metadata": {},
   "outputs": [
    {
     "name": "stdout",
     "output_type": "stream",
     "text": [
      "Odd number\n"
     ]
    }
   ],
   "source": [
    "# Even numbers are numbers that are divisible by 2. If the number is not divisible by 2, that's an odd number\n",
    "\n",
    "number = 11\n",
    "if number % 2 is 0:\n",
    "    print('Even number')\n",
    "else:\n",
    "    print('Odd number')\n",
    "\n",
    "# Output => Odd number\n"
   ]
  },
  {
   "cell_type": "code",
   "execution_count": 14,
   "metadata": {},
   "outputs": [
    {
     "name": "stdout",
     "output_type": "stream",
     "text": [
      "This number is divisible by 10, 50 and 30\n"
     ]
    }
   ],
   "source": [
    "number = 150\n",
    "if number % 10 is 0 and number % 50 is 0:\n",
    "    if number % 30 is 0:\n",
    "        print('This number is divisible by 10, 50 and 30')\n",
    "    else:\n",
    "        print('This number is divisible by 10 and 50 but not 30')\n",
    "#{\"threads\":[{\"position\":109,\"start\":0,\"end\":108,\"connection\":\"closed\"},{\"position\":109,\"start\":109,\"end\":215,\"connection\":\"open\"}],\"url\":\"https://udemy-assets-on-demand.udemy.com/2017-05-08_03-58-21-25ce51e7a53d2008934ab646b77fff69/original.py?nva=20180520164147&download=True&filename=Exercise-Solution-Conditionals-Hard.py&token=0b5038e82a1041e306c0d\",\"method\":\"GET\",\"port\":443,\"downloadSize\":215,\"headers\":{\"date\":\"Sun, 20 May 2018 12:17:36 GMT\",\"content-length\":\"215\",\"content-type\":\"application/force-download\",\"etag\":\"\\\"ca07c723685423a2d9255b21761bb7ca\\\"\",\"last-modified\":\"Mon, 08 May 2017 03:58:23 GMT\",\"accept-ranges\":\"bytes\",\"server\":\"AmazonS3\",\"access-control-allow-origin\":\"*\",\"x-amz-id-2\":\"ogoCT/WIe7mT5l0RPsoUdNdu0cqwf+aoSmRwzRYWmY1x7ygcQxHValPiTegM1VZgFhwiYnnHqZw=\",\"x-amz-meta-qqfilename\":\"Exercise%20Solution%20-%20Conditionals(Hard).py\",\"x-amz-replication-status\":\"COMPLETED\",\"x-amz-request-id\":\"DF7D7B096677D873\",\"x-amz-version-id\":\"rJAu9sjYhOFcP3rsdFJDO7gGOnYRDCja\",\"content-disposition\":\"attachment; filename=Exercise-Solution-Conditionals-Hard.py\",\"connection\":\"close\"}}                                                                                                                                                                                                                                                                                                                                                                                                                                                                                                                                                                                                                                                                                                                                                                                                                                                                                                                                                                                                                                                                                                                                                                                                                                                                                                                                                                                                                                                                                                                                                                                                                                                                                                                                                                                                                                                                                                                                                                                                                                                                                                                                                                                                                                                                                                                                                                                                                                                                                                                                                                                                                                                                                                                                                                                                                                                                                                                                                                                                                                                                                                                                                                                                                                                                                                                                                                                                                                                                                                                                                                                                                                                                                                                                                                                                                                                                                                                                                                                                                                                                                                                                                                                                                                                                                                                                                                                                                                                                                                                                                                                                                                                                                                                                                                                                                                                                                                                                                                                                                                                                                                                                                                                                                                                                                                                                                                                                                                                                                                                                                                                                                                                                                                                                                                                                                                                                                                                                                                                                                                                                                                                                                                                                                                                                                                                                                                                                                                                                                                                                                                                                                                                                                                                                                                                                                                                                                                                                                                                                                                                                                                                                                                                                                                                                                                                                                                                                                                                                                                                                                                                                                                                                                                                                                                                                                                                                                                                                                                                                                                                                                                                                                                                                                                                                                                                                                                                                                                                                                                                                                                                                                                                                                                                                                                                                                                                                                                                                                                                                                                                                                                                                                                                                                                                                                                                                                                                                                                                                                                                             "
   ]
  },
  {
   "cell_type": "code",
   "execution_count": 19,
   "metadata": {},
   "outputs": [
    {
     "name": "stdout",
     "output_type": "stream",
     "text": [
      "1 2 3 4 5 6 7 8 9 10 "
     ]
    }
   ],
   "source": [
    "# For loop to print numbers in range 1 to 10\n",
    "for number in range(1, 11):\n",
    "    # Use the parameter end = ' ' to add a whitespace at the end of the print statement instead of a new line\n",
    "    print(number, end = ' ')\n",
    "\n",
    "# 1 2 3 4 5 6 7 8 9 10\n"
   ]
  },
  {
   "cell_type": "code",
   "execution_count": 20,
   "metadata": {},
   "outputs": [
    {
     "name": "stdout",
     "output_type": "stream",
     "text": [
      "25\n"
     ]
    }
   ],
   "source": [
    "# Declare a variable to keep track of the sum of odd numbers\n",
    "oddSum = 0\n",
    "# Run a for loop from 1 to 10\n",
    "for number in range(1, 11):\n",
    "    # Check if the number is odd by checking if it is not divisible by 2\n",
    "    if number % 2 is not 0:\n",
    "        oddSum = oddSum + number\n",
    "print(oddSum)\n"
   ]
  },
  {
   "cell_type": "code",
   "execution_count": 21,
   "metadata": {},
   "outputs": [
    {
     "name": "stdout",
     "output_type": "stream",
     "text": [
      "Number is a prime number\n"
     ]
    }
   ],
   "source": [
    "# Numbers that are divisible by just 1 and itself are called prime numbers\n",
    "\n",
    "# Declare a variable to store an integer number\n",
    "isPrimeNumber = 13\n",
    "for number in range(2, isPrimeNumber):\n",
    "    # Check if 'isPrimeNumber' is divisible by any other number in the range 2 to isPrimeNumber - 1\n",
    "    if isPrimeNumber % number is 0:\n",
    "        print('Number is not a prime number.')\n",
    "        break\n",
    "# If 'isPrimeNumber' was divisible by no other number, the else corresponding to the for loop gets executed\n",
    "else:\n",
    "    print('Number is a prime number')\n",
    "\n",
    "# Output: Number is a prime number\n"
   ]
  },
  {
   "cell_type": "code",
   "execution_count": 2,
   "metadata": {},
   "outputs": [
    {
     "name": "stdout",
     "output_type": "stream",
     "text": [
      "hello\n",
      "hello\n",
      "hello\n",
      "hello\n",
      "hello\n",
      "hello\n",
      "hello\n",
      "hello\n",
      "hello\n"
     ]
    }
   ],
   "source": [
    "for outerloop in range(1,4):\n",
    "    for innerloop in range(1,4):\n",
    "        print(\"hello\")"
   ]
  },
  {
   "cell_type": "code",
   "execution_count": 3,
   "metadata": {},
   "outputs": [
    {
     "name": "stdout",
     "output_type": "stream",
     "text": [
      "Hello, World!\n"
     ]
    }
   ],
   "source": [
    "# Define a function that prints 'Hello, World!'\n",
    "def helloWorld():\n",
    "    print('Hello, World!')\n",
    "\n",
    "# Call the function helloWorld()\n",
    "helloWorld()\n",
    "\n",
    "# Output => \"Hello, World\""
   ]
  },
  {
   "cell_type": "code",
   "execution_count": 2,
   "metadata": {},
   "outputs": [
    {
     "name": "stdout",
     "output_type": "stream",
     "text": [
      "Isosceles triangle\n"
     ]
    }
   ],
   "source": [
    "# Define a function to return the type of triangle\n",
    "def typeOfTriangle(sideOne, sideTwo, sideThree):\n",
    "    # Check if both sideOne and sideTwo are equal or sideOne and sideThree are equal\n",
    "    if sideOne == sideTwo or sideOne == sideThree:\n",
    "        # Now that either sideOne is equal to sideTwo or sideOne = sideThree, we can make an equilateral triangle check by checking if sideTwo and sideThree are equal too\n",
    "        if sideTwo == sideThree:\n",
    "            # Since all the 3 sides are equal, the triangle is an equilateral triangle\n",
    "            return('Equilateral triangle')\n",
    "        else:\n",
    "            # Not all 3 sides are equal, but 2 sides are equal and hence the triangle is an Isosceles triangle\n",
    "            return('Isosceles triangle')\n",
    "    elif sideTwo == sideThree:\n",
    "            # This executes if sideOne is not equal to both sideTwo and sideThree. Here, if sideTwo and sideThree are equal, the triangle is an Isosceles triangle since two sides are equal\n",
    "        return('Isosceles triangle')\n",
    "    else:\n",
    "        # If no sides are equal, the triangle is a Scalene triangle\n",
    "        return('Scalene triangle')\n",
    "\n",
    "# Declare three sides of a triangle\n",
    "sideOne = 10\n",
    "sideTwo = 20\n",
    "sideThree = 20\n",
    "# Declare a variable to store the type of the triangle returned\n",
    "triangle = typeOfTriangle(sideOne, sideTwo, sideThree)\n",
    "print(triangle)\n",
    "\n",
    "# Output => Isosceles triangle\n"
   ]
  },
  {
   "cell_type": "code",
   "execution_count": 1,
   "metadata": {},
   "outputs": [
    {
     "name": "stdout",
     "output_type": "stream",
     "text": [
      "30\n"
     ]
    }
   ],
   "source": [
    "# Define a function that adds two numbers and returns the result\n",
    "def returnSum(numberOne, numberTwo):\n",
    "    return(numberOne + numberTwo)\n",
    "# Declare two numbers\n",
    "numberOne = 10\n",
    "numberTwo = 20\n",
    "# Declare a variable that would store the result of the returned function\n",
    "additionResult = returnSum(numberOne, numberTwo)\n",
    "print(additionResult)\n",
    "\n",
    "# Output => 30\n"
   ]
  },
  {
   "cell_type": "code",
   "execution_count": null,
   "metadata": {
    "collapsed": true
   },
   "outputs": [],
   "source": []
  }
 ],
 "metadata": {
  "kernelspec": {
   "display_name": "Python 3",
   "language": "python",
   "name": "python3"
  },
  "language_info": {
   "codemirror_mode": {
    "name": "ipython",
    "version": 3
   },
   "file_extension": ".py",
   "mimetype": "text/x-python",
   "name": "python",
   "nbconvert_exporter": "python",
   "pygments_lexer": "ipython3",
   "version": "3.6.3"
  }
 },
 "nbformat": 4,
 "nbformat_minor": 2
}
