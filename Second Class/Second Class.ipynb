{
 "cells": [
  {
   "cell_type": "code",
   "execution_count": 2,
   "metadata": {
    "collapsed": false
   },
   "outputs": [],
   "source": [
    "from sklearn import linear_model\n",
    "from numpy import genfromtxt,array"
   ]
  },
  {
   "cell_type": "code",
   "execution_count": 17,
   "metadata": {
    "collapsed": false
   },
   "outputs": [],
   "source": [
    "dataset=genfromtxt(\"diabetes.csv\",delimiter=\",\")"
   ]
  },
  {
   "cell_type": "code",
   "execution_count": 21,
   "metadata": {
    "collapsed": false
   },
   "outputs": [],
   "source": [
    "x=dataset[:,0].reshape(-1,1)\n",
    "y=dataset[:,1].reshape(-1,1)"
   ]
  },
  {
   "cell_type": "code",
   "execution_count": 22,
   "metadata": {
    "collapsed": false
   },
   "outputs": [],
   "source": [
    "model=linear_model.LinearRegression()\n",
    "model=model.fit(x,y)"
   ]
  },
  {
   "cell_type": "code",
   "execution_count": 47,
   "metadata": {
    "collapsed": false
   },
   "outputs": [
    {
     "name": "stdout",
     "output_type": "stream",
     "text": [
      "[[  97.33925061]\n",
      " [ 111.7994368 ]\n",
      " [ 104.09088166]\n",
      " [ 102.44284573]\n",
      " [  96.11651428]\n",
      " [ 114.29807191]\n",
      " [ 109.40712658]\n",
      " [  91.81035589]]\n"
     ]
    }
   ],
   "source": [
    "prediction=model.predict(x)\n",
    "print(prediction[0:8])"
   ]
  },
  {
   "cell_type": "code",
   "execution_count": 48,
   "metadata": {
    "collapsed": false
   },
   "outputs": [
    {
     "name": "stdout",
     "output_type": "stream",
     "text": [
      "89.8013972418 % Accuracy of Whole Data Set & rest 11% it fails to pridict the correct answer\n"
     ]
    }
   ],
   "source": [
    "print(model.score(x,y)*100,'% Accuracy of Whole Data Set & rest 11% it fails to pridict the correct answer')"
   ]
  },
  {
   "cell_type": "code",
   "execution_count": 49,
   "metadata": {
    "collapsed": false
   },
   "outputs": [
    {
     "name": "stdout",
     "output_type": "stream",
     "text": [
      "b value:  [-17.54480215]\n",
      "m value:  [[ 5.31624492]]\n"
     ]
    }
   ],
   "source": [
    "print('b value: ',model.intercept_) \n",
    "print('m value: ',model.coef_)"
   ]
  }
 ],
 "metadata": {
  "kernelspec": {
   "display_name": "Python 3",
   "language": "python",
   "name": "python3"
  },
  "language_info": {
   "codemirror_mode": {
    "name": "ipython",
    "version": 3
   },
   "file_extension": ".py",
   "mimetype": "text/x-python",
   "name": "python",
   "nbconvert_exporter": "python",
   "pygments_lexer": "ipython3",
   "version": "3.6.0"
  }
 },
 "nbformat": 4,
 "nbformat_minor": 2
}
