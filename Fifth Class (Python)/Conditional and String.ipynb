{
 "cells": [
  {
   "cell_type": "markdown",
   "metadata": {},
   "source": [
    "# Conditional"
   ]
  },
  {
   "cell_type": "code",
   "execution_count": 12,
   "metadata": {},
   "outputs": [
    {
     "name": "stdout",
     "output_type": "stream",
     "text": [
      "Inside else\n"
     ]
    }
   ],
   "source": [
    "a=30\n",
    "if(a>40):\n",
    "    print(\"inside if\")\n",
    "    if(a==30):\n",
    "        print(\"print if of if\")\n",
    "    else:\n",
    "        print(\"inside else of if\")\n",
    "else:\n",
    "    print(\"Inside else\")\n",
    "            "
   ]
  },
  {
   "cell_type": "code",
   "execution_count": 10,
   "metadata": {},
   "outputs": [
    {
     "name": "stdout",
     "output_type": "stream",
     "text": [
      "0\n",
      "1\n",
      "2\n",
      "3\n",
      "4\n",
      "5\n",
      "6\n",
      "7\n",
      "8\n",
      "9\n",
      "10\n",
      "11\n",
      "12\n",
      "13\n",
      "14\n",
      "15\n",
      "16\n",
      "17\n",
      "18\n",
      "19\n"
     ]
    }
   ],
   "source": [
    "for x in range (0,20):\n",
    " print(x) "
   ]
  },
  {
   "cell_type": "code",
   "execution_count": 11,
   "metadata": {},
   "outputs": [
    {
     "name": "stdout",
     "output_type": "stream",
     "text": [
      "0,1,2,3,4,5,6,7,8,9,10,11,12,13,14,15,16,17,18,19,"
     ]
    }
   ],
   "source": [
    "for x in range (0,20):\n",
    "    print(x,end =\",\")"
   ]
  },
  {
   "cell_type": "code",
   "execution_count": 14,
   "metadata": {},
   "outputs": [
    {
     "name": "stdout",
     "output_type": "stream",
     "text": [
      "0\n",
      "1\n",
      "2\n",
      "3\n",
      "4\n",
      "5\n",
      "6\n",
      "7\n",
      "8\n",
      "9\n"
     ]
    }
   ],
   "source": [
    "a=0\n",
    "while(a<10):\n",
    "    print(a)\n",
    "    a+=1"
   ]
  },
  {
   "cell_type": "code",
   "execution_count": 24,
   "metadata": {},
   "outputs": [
    {
     "name": "stdout",
     "output_type": "stream",
     "text": [
      "\n",
      "1 @ 2 @ 3 @ \n",
      "4 @ 5 @ 6 @ \n",
      "7 @ 8 @ 9 @ "
     ]
    }
   ],
   "source": [
    "p=[[1,2,3],[4,5,6],[7,8,9]]\n",
    "for x in range(0,3):\n",
    "    print()\n",
    "    for y in range(0,3):\n",
    "        print(p[x][y],end=\" @ \")"
   ]
  },
  {
   "cell_type": "code",
   "execution_count": 5,
   "metadata": {},
   "outputs": [
    {
     "name": "stdout",
     "output_type": "stream",
     "text": [
      "Enter ur nameDebasish Maharana\n",
      "Hello,Debasish Maharana\n"
     ]
    }
   ],
   "source": [
    "name=input(\"Enter ur name\")\n",
    "print(\"Hello,\" +name)"
   ]
  },
  {
   "cell_type": "code",
   "execution_count": 7,
   "metadata": {},
   "outputs": [
    {
     "name": "stdout",
     "output_type": "stream",
     "text": [
      "ram gopal\n",
      "ram gopal\n"
     ]
    }
   ],
   "source": [
    "#String\n",
    "a=\"ram\"\n",
    "b=\"gopal\"\n",
    "print(a+ \" \" +b)\n",
    "print(\"%s %s\"%(a,b))"
   ]
  },
  {
   "cell_type": "code",
   "execution_count": 17,
   "metadata": {},
   "outputs": [
    {
     "name": "stdout",
     "output_type": "stream",
     "text": [
      "31\n",
      "y\n",
      "#\n",
      "merigyhn79792$&\n"
     ]
    }
   ],
   "source": [
    "a=\"Iamlearningpython3729874982#$%&\"\n",
    "print(len(a))\n",
    "print(max(a))\n",
    "print(min(a))\n",
    "print(a[2:len(a):2])"
   ]
  },
  {
   "cell_type": "code",
   "execution_count": 27,
   "metadata": {},
   "outputs": [
    {
     "name": "stdout",
     "output_type": "stream",
     "text": [
      "i am learning python\n",
      "nohtyp gninrael ma i\n",
      "nhy nnalm \n",
      "I am learning python\n",
      "I AM LEARNING PYTHON\n",
      "i am learning python\n",
      "2\n",
      "1\n",
      "2\n",
      "7\n",
      "2\n"
     ]
    }
   ],
   "source": [
    "a=\"i am learning python\"\n",
    "print(a[0:len(a):1])\n",
    "print(a[::-1])\n",
    "print(a[::-2])\n",
    "print(a.capitalize())\n",
    "print(a.upper())\n",
    "print(a.lower())\n",
    "print(a.count(\"a\"))\n",
    "print(a.count(\"a\",3,len(a)))\n",
    "print(a.index(\"a\"))\n",
    "print(a.index(\"a\",3,len(a)))\n",
    "print(a.find(\"a\"))"
   ]
  },
  {
   "cell_type": "code",
   "execution_count": 37,
   "metadata": {
    "scrolled": false
   },
   "outputs": [
    {
     "name": "stdout",
     "output_type": "stream",
     "text": [
      "  he**o debasish, have a nice day\n",
      "  he#lo debasish, have a nice day\n",
      "  h@llo d@basish, hav@ a nice day\n",
      "hello debasish, have a nice day\n"
     ]
    }
   ],
   "source": [
    "str1=\"  hello debasish, have a nice day\"\n",
    "print(str1.replace(\"l\",\"*\"))\n",
    "print(str1.replace(\"l\",\"#\",1))\n",
    "print(str1.replace(\"e\",\"@\",3))\n",
    "print(str1.strip()) #remove space\n"
   ]
  },
  {
   "cell_type": "code",
   "execution_count": 41,
   "metadata": {},
   "outputs": [
    {
     "name": "stdout",
     "output_type": "stream",
     "text": [
      "['debasish', 'is', 'a good boy']\n",
      "['debasish is a g', '', 'd boy']\n"
     ]
    }
   ],
   "source": [
    "#split\n",
    "x=\"debasish is a good boy\"\n",
    "print(x.split(\" \",2))# consider first two spaaces\n",
    "print(x.split(\"o\",2))"
   ]
  }
 ],
 "metadata": {
  "kernelspec": {
   "display_name": "Python 3",
   "language": "python",
   "name": "python3"
  },
  "language_info": {
   "codemirror_mode": {
    "name": "ipython",
    "version": 3
   },
   "file_extension": ".py",
   "mimetype": "text/x-python",
   "name": "python",
   "nbconvert_exporter": "python",
   "pygments_lexer": "ipython3",
   "version": "3.6.3"
  }
 },
 "nbformat": 4,
 "nbformat_minor": 2
}
