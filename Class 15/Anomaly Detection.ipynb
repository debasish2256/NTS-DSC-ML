{
 "cells": [
  {
   "cell_type": "code",
   "execution_count": 1,
   "metadata": {
    "collapsed": true
   },
   "outputs": [],
   "source": [
    "#Anomlay detection using Gaissian distribution\n",
    "import matplotlib.pyplot as plt\n",
    "import numpy as np\n",
    "from numpy import genfromtxt\n",
    "from scipy.stats import multivariate_normal #returns product term\n",
    "from sklearn.metrics import f1_score"
   ]
  },
  {
   "cell_type": "code",
   "execution_count": 15,
   "metadata": {
    "collapsed": true
   },
   "outputs": [],
   "source": [
    "def read_dataset(filePath,delimiter=','):\n",
    "    return genfromtxt(filePath, delimiter=delimiter)\n",
    "\n",
    "def feature_normalize(dataset):\n",
    "    mu = np.mean(dataset,axis=0)\n",
    "    sigma = np.std(dataset,axis=0)\n",
    "    return (dataset - mu)/sigma\n",
    "\n",
    "def estimateGaussian(dataset):\n",
    "    mu = np.mean(dataset, axis=0)\n",
    "    sigma = np.cov(dataset.T)\n",
    "    return mu, sigma\n",
    "    \n",
    "def multivariateGaussian(dataset,mu,sigma):\n",
    "    p = multivariate_normal(mean=mu, cov=sigma)\n",
    "    return p.pdf(dataset)\n",
    "\n",
    "def selectThresholdByCV(probs,gt):\n",
    "    best_epsilon = 0\n",
    "    best_f1 = 0\n",
    "    f = 0\n",
    "    stepsize = (max(probs) - min(probs)) / 1000;\n",
    "    epsilons = np.arange(min(probs),max(probs),stepsize)\n",
    "    for epsilon in np.nditer(epsilons):\n",
    "        predictions = (probs < epsilon) \n",
    "        f = f1_score(gt, predictions,average='binary')\n",
    "        if f > best_f1:\n",
    "            best_f1 = f\n",
    "            best_epsilon = epsilon\n",
    "    \n",
    "    return best_f1, best_epsilon"
   ]
  },
  {
   "cell_type": "code",
   "execution_count": 17,
   "metadata": {},
   "outputs": [
    {
     "name": "stdout",
     "output_type": "stream",
     "text": [
      "Number of datapoints in training set: 307\n",
      "Number of dimensions/features: 2\n"
     ]
    },
    {
     "data": {
      "image/png": "[encoded data removed]",
      "text/plain": [
       "<matplotlib.figure.Figure at 0x1bea10fc1d0>"
      ]
     },
     "metadata": {},
     "output_type": "display_data"
    }
   ],
   "source": [
    "tr_data = read_dataset('tr_server_data.csv') #training data\n",
    "cv_data = read_dataset('cv_server_data.csv') #cross validation\n",
    "gt_data = read_dataset('gt_server_data.csv') #ground truth\n",
    "\n",
    "n_training_samples = tr_data.shape[0]\n",
    "n_dim = tr_data.shape[1]\n",
    "\n",
    "print('Number of datapoints in training set: %d' % n_training_samples)\n",
    "print('Number of dimensions/features: %d' % n_dim)\n",
    "\n",
    "\n",
    "#print(tr_data[1:n_training_samples,:])\n",
    "\n",
    "plt.xlabel('Latency (ms)')\n",
    "plt.ylabel('Throughput (mb/s)')\n",
    "plt.plot(tr_data[:,0],tr_data[:,1],'bx')\n",
    "plt.show()"
   ]
  },
  {
   "cell_type": "code",
   "execution_count": 19,
   "metadata": {},
   "outputs": [
    {
     "data": {
      "text/plain": [
       "(307,)"
      ]
     },
     "execution_count": 19,
     "metadata": {},
     "output_type": "execute_result"
    }
   ],
   "source": [
    "mu, sigma = estimateGaussian(tr_data)\n",
    "p = multivariateGaussian(tr_data,mu,sigma)\n",
    "#mu\n",
    "#sigma\n",
    "p.shape"
   ]
  },
  {
   "cell_type": "code",
   "execution_count": 5,
   "metadata": {},
   "outputs": [
    {
     "name": "stderr",
     "output_type": "stream",
     "text": [
      "C:\\Users\\nEW u\\Anaconda3\\lib\\site-packages\\sklearn\\metrics\\classification.py:1113: UndefinedMetricWarning: F-score is ill-defined and being set to 0.0 due to no predicted samples.\n",
      "  'precision', 'predicted', average, warn_for)\n"
     ]
    },
    {
     "name": "stdout",
     "output_type": "stream",
     "text": [
      "fscore :  0.875 Epsilon :  9.036201327981216e-05\n"
     ]
    }
   ],
   "source": [
    "#selecting optimal value of epsilon using cross validation\n",
    "p_cv = multivariateGaussian(cv_data,mu,sigma)\n",
    "fscore, ep = selectThresholdByCV(p_cv,gt_data)\n",
    "print('fscore : ',fscore,'Epsilon : ', ep)"
   ]
  },
  {
   "cell_type": "code",
   "execution_count": 6,
   "metadata": {
    "collapsed": true
   },
   "outputs": [],
   "source": [
    "#selecting outlier datapoints \n",
    "outliers = np.array(np.where(p < ep))"
   ]
  },
  {
   "cell_type": "code",
   "execution_count": 7,
   "metadata": {},
   "outputs": [
    {
     "data": {
      "image/png": "[encoded data removed]",
      "text/plain": [
       "<matplotlib.figure.Figure at 0x1bea07c0b38>"
      ]
     },
     "metadata": {},
     "output_type": "display_data"
    }
   ],
   "source": [
    "plt.figure()\n",
    "plt.xlabel('Latency (ms)')\n",
    "plt.ylabel('Throughput (mb/s)')\n",
    "plt.plot(tr_data[:,0],tr_data[:,1],'bx')\n",
    "plt.plot(tr_data[outliers,0],tr_data[outliers,1],'ro')\n",
    "plt.show()"
   ]
  },
  {
   "cell_type": "code",
   "execution_count": 25,
   "metadata": {},
   "outputs": [
    {
     "name": "stdout",
     "output_type": "stream",
     "text": [
      "Not an anomaly\n"
     ]
    }
   ],
   "source": [
    "#Testing a sample dataset\n",
    "p_test = multivariateGaussian([[14.635,13.562]],mu,sigma)\n",
    "if (p_test < ep):\n",
    "    print('Anomaly')\n",
    "else:\n",
    "    print('Not an anomaly')"
   ]
  },
  {
   "cell_type": "markdown",
   "metadata": {},
   "source": [
    "## Anomaly Detection Using One-Class SVM"
   ]
  },
  {
   "cell_type": "code",
   "execution_count": 9,
   "metadata": {
    "collapsed": true
   },
   "outputs": [],
   "source": [
    "from sklearn import svm"
   ]
  },
  {
   "cell_type": "code",
   "execution_count": 10,
   "metadata": {
    "collapsed": true
   },
   "outputs": [],
   "source": [
    "# use the same dataset\n",
    "tr_data = read_dataset('tr_server_data.csv')"
   ]
  },
  {
   "cell_type": "code",
   "execution_count": 11,
   "metadata": {},
   "outputs": [
    {
     "data": {
      "text/plain": [
       "OneClassSVM(cache_size=200, coef0=0.0, degree=3, gamma=0.1, kernel='rbf',\n",
       "      max_iter=-1, nu=0.05, random_state=None, shrinking=True, tol=0.001,\n",
       "      verbose=False)"
      ]
     },
     "execution_count": 11,
     "metadata": {},
     "output_type": "execute_result"
    }
   ],
   "source": [
    "clf = svm.OneClassSVM(nu=0.05, kernel=\"rbf\", gamma=0.1)\n",
    "clf.fit(tr_data)"
   ]
  },
  {
   "cell_type": "code",
   "execution_count": 12,
   "metadata": {
    "collapsed": true
   },
   "outputs": [],
   "source": [
    "pred = clf.predict(tr_data)\n",
    "\n",
    "# inliers are labeled 1, outliers are labeled -1\n",
    "normal = tr_data[pred == 1]\n",
    "abnormal = tr_data[pred == -1]"
   ]
  },
  {
   "cell_type": "code",
   "execution_count": 13,
   "metadata": {},
   "outputs": [
    {
     "data": {
      "image/png": "[encoded data removed]",
      "text/plain": [
       "<matplotlib.figure.Figure at 0x1bea13cfd30>"
      ]
     },
     "metadata": {},
     "output_type": "display_data"
    }
   ],
   "source": [
    "plt.figure()\n",
    "plt.plot(normal[:,0],normal[:,1],'bx')\n",
    "plt.plot(abnormal[:,0],abnormal[:,1],'ro')\n",
    "plt.xlabel('Latency (ms)')\n",
    "plt.ylabel('Throughput (mb/s)')\n",
    "plt.show()"
   ]
  },
  {
   "cell_type": "code",
   "execution_count": 14,
   "metadata": {},
   "outputs": [
    {
     "name": "stdout",
     "output_type": "stream",
     "text": [
      "[-1.]\n"
     ]
    }
   ],
   "source": [
    "print(clf.predict([[24.112,15.316]]))"
   ]
  }
 ],
 "metadata": {
  "anaconda-cloud": {},
  "kernelspec": {
   "display_name": "Python 3",
   "language": "python",
   "name": "python3"
  },
  "language_info": {
   "codemirror_mode": {
    "name": "ipython",
    "version": 3
   },
   "file_extension": ".py",
   "mimetype": "text/x-python",
   "name": "python",
   "nbconvert_exporter": "python",
   "pygments_lexer": "ipython3",
   "version": "3.6.1"
  }
 },
 "nbformat": 4,
 "nbformat_minor": 1
}
