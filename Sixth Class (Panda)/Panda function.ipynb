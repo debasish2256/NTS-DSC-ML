{
 "cells": [
  {
   "cell_type": "code",
   "execution_count": 43,
   "metadata": {
    "collapsed": true
   },
   "outputs": [],
   "source": [
    "#pandas\n",
    "import pandas as pd "
   ]
  },
  {
   "cell_type": "code",
   "execution_count": 12,
   "metadata": {
    "collapsed": true
   },
   "outputs": [],
   "source": [
    "test=pd.read_csv(\"sample_data.txt\")"
   ]
  },
  {
   "cell_type": "code",
   "execution_count": 13,
   "metadata": {
    "scrolled": true
   },
   "outputs": [
    {
     "data": {
      "text/html": [
       "<div>\n",
       "<style>\n",
       "    .dataframe thead tr:only-child th {\n",
       "        text-align: right;\n",
       "    }\n",
       "\n",
       "    .dataframe thead th {\n",
       "        text-align: left;\n",
       "    }\n",
       "\n",
       "    .dataframe tbody tr th {\n",
       "        vertical-align: top;\n",
       "    }\n",
       "</style>\n",
       "<table border=\"1\" class=\"dataframe\">\n",
       "  <thead>\n",
       "    <tr style=\"text-align: right;\">\n",
       "      <th></th>\n",
       "      <th>Name</th>\n",
       "      <th>Age</th>\n",
       "      <th>Sal</th>\n",
       "      <th>Sex</th>\n",
       "    </tr>\n",
       "  </thead>\n",
       "  <tbody>\n",
       "    <tr>\n",
       "      <th>0</th>\n",
       "      <td>A</td>\n",
       "      <td>21</td>\n",
       "      <td>2.45</td>\n",
       "      <td>M</td>\n",
       "    </tr>\n",
       "    <tr>\n",
       "      <th>1</th>\n",
       "      <td>B</td>\n",
       "      <td>23</td>\n",
       "      <td>45.67</td>\n",
       "      <td>M</td>\n",
       "    </tr>\n",
       "    <tr>\n",
       "      <th>2</th>\n",
       "      <td>C</td>\n",
       "      <td>38</td>\n",
       "      <td>3.40</td>\n",
       "      <td>F</td>\n",
       "    </tr>\n",
       "    <tr>\n",
       "      <th>3</th>\n",
       "      <td>D</td>\n",
       "      <td>25</td>\n",
       "      <td>8.20</td>\n",
       "      <td>F</td>\n",
       "    </tr>\n",
       "  </tbody>\n",
       "</table>\n",
       "</div>"
      ],
      "text/plain": [
       "  Name  Age    Sal Sex\n",
       "0    A   21   2.45   M\n",
       "1    B   23  45.67   M\n",
       "2    C   38   3.40   F\n",
       "3    D   25   8.20   F"
      ]
     },
     "execution_count": 13,
     "metadata": {},
     "output_type": "execute_result"
    }
   ],
   "source": [
    "test"
   ]
  },
  {
   "cell_type": "code",
   "execution_count": 14,
   "metadata": {},
   "outputs": [
    {
     "name": "stdout",
     "output_type": "stream",
     "text": [
      "<class 'pandas.core.frame.DataFrame'>\n",
      "RangeIndex: 4 entries, 0 to 3\n",
      "Data columns (total 4 columns):\n",
      "Name    4 non-null object\n",
      "Age     4 non-null int64\n",
      "Sal     4 non-null float64\n",
      "Sex     4 non-null object\n",
      "dtypes: float64(1), int64(1), object(2)\n",
      "memory usage: 208.0+ bytes\n"
     ]
    }
   ],
   "source": [
    "test.info()"
   ]
  },
  {
   "cell_type": "code",
   "execution_count": 19,
   "metadata": {},
   "outputs": [
    {
     "name": "stdout",
     "output_type": "stream",
     "text": [
      "  Name  Age    Sal Sex\n",
      "0    A   21   2.45   M\n",
      "1    B   23  45.67   M\n",
      "2    C   38   3.40   F\n",
      "3    D   25   8.20   F\n",
      "(4, 4)\n",
      "<class 'pandas.core.frame.DataFrame'>\n",
      "RangeIndex: 4 entries, 0 to 3\n",
      "Data columns (total 4 columns):\n",
      "Name    4 non-null object\n",
      "Age     4 non-null int64\n",
      "Sal     4 non-null float64\n",
      "Sex     4 non-null object\n",
      "dtypes: float64(1), int64(1), object(2)\n",
      "memory usage: 208.0+ bytes\n",
      "None\n",
      "             Age       Sal\n",
      "count   4.000000   4.00000\n",
      "mean   26.750000  14.93000\n",
      "std     7.675719  20.64729\n",
      "min    21.000000   2.45000\n",
      "25%    22.500000   3.16250\n",
      "50%    24.000000   5.80000\n",
      "75%    28.250000  17.56750\n",
      "max    38.000000  45.67000\n",
      "  Name  Age    Sal Sex\n",
      "0    A   21   2.45   M\n",
      "2    C   38   3.40   F\n",
      "3    D   25   8.20   F\n",
      "1    B   23  45.67   M\n",
      "  Name  Age    Sal Sex\n",
      "0    A   21   2.45   M\n",
      "2    C   38   3.40   F\n",
      "3    D   25   8.20   F\n",
      "1    B   23  45.67   M\n",
      "  Name  Age  Sal Sex\n",
      "2    C   38  3.4   F\n",
      "3    D   25  8.2   F\n"
     ]
    },
    {
     "data": {
      "text/plain": [
       "'import pandas as pd\\ntest=pd.read_csv(\"sample_data.txt\")\\nprint(test.loc[0:2,\"Name\":\"Sal\"])\\nprint(test.iloc[])'"
      ]
     },
     "execution_count": 19,
     "metadata": {},
     "output_type": "execute_result"
    }
   ],
   "source": [
    "print(test)\n",
    "#shape\n",
    "print(test.shape)\n",
    "#info\n",
    "print(test.info())\n",
    "#describe\n",
    "print(test.describe())\n",
    "#sort\n",
    "print(test.sort_values(by=\"Sal\",ascending=True))\n",
    "print(test.sort_values(by=[\"Sal\",\"Name\"],ascending=True))\n",
    "#slicing\n",
    "print(test[-2:])\n"
   ]
  },
  {
   "cell_type": "code",
   "execution_count": 21,
   "metadata": {},
   "outputs": [
    {
     "name": "stdout",
     "output_type": "stream",
     "text": [
      "  Name  Age    Sal\n",
      "0    A   21   2.45\n",
      "1    B   23  45.67\n",
      "2    C   38   3.40\n",
      "  Name  Age    Sal\n",
      "0    A   21   2.45\n",
      "1    B   23  45.67\n"
     ]
    }
   ],
   "source": [
    "import pandas as pd\n",
    "test=pd.read_csv(\"sample_data.txt\")\n",
    "print(test.loc[0:2,\"Name\":\"Sal\"])#indexing by name -inclusive\n",
    "print(test.iloc[0:2,0:3]) #indexing by number -exclusive"
   ]
  },
  {
   "cell_type": "code",
   "execution_count": 30,
   "metadata": {},
   "outputs": [
    {
     "name": "stdout",
     "output_type": "stream",
     "text": [
      "   Age   Name  Sal\n",
      "0   21  Arpit  7.2\n",
      "1   23    Adi  6.1\n",
      "2   20   Lexi  6.5\n",
      "3   27  Alexa  7.8 \n",
      "\n",
      "   Age1  Name1  Sal1\n",
      "0    21  Arpit   7.2\n",
      "1    23    Adi   6.1\n",
      "2    20   Lexi   6.5\n",
      "3    27  Alexa   7.8 \n",
      "\n",
      "   Age   Name  Sal  Age1  Name1  Sal1\n",
      "0   21  Arpit  7.2    21  Arpit   7.2\n",
      "1   23    Adi  6.1    23    Adi   6.1\n",
      "2   20   Lexi  6.5    20   Lexi   6.5\n",
      "3   27  Alexa  7.8    27  Alexa   7.8 \n",
      "\n",
      "   Age1  Name1  Sal1  Age   Name  Sal\n",
      "0    21  Arpit   7.2   21  Arpit  7.2\n",
      "1    23    Adi   6.1   23    Adi  6.1\n",
      "2    20   Lexi   6.5   20   Lexi  6.5\n",
      "3    27  Alexa   7.8   27  Alexa  7.8 \n",
      "\n",
      "    Age  Age1   Name  Name1  Sal  Sal1\n",
      "0  21.0   NaN  Arpit    NaN  7.2   NaN\n",
      "1  23.0   NaN    Adi    NaN  6.1   NaN\n",
      "2  20.0   NaN   Lexi    NaN  6.5   NaN\n",
      "3  27.0   NaN  Alexa    NaN  7.8   NaN\n",
      "0   NaN  21.0    NaN  Arpit  NaN   7.2\n",
      "1   NaN  23.0    NaN    Adi  NaN   6.1\n",
      "2   NaN  20.0    NaN   Lexi  NaN   6.5\n",
      "3   NaN  27.0    NaN  Alexa  NaN   7.8\n"
     ]
    }
   ],
   "source": [
    "#pandas\n",
    "#joining\n",
    "\n",
    "import pandas as pd\n",
    "a=pd.DataFrame({'Name':['Arpit','Adi','Lexi','Alexa'],'Age':[21,23,20,27],'Sal':[7.2,6.1,6.5,7.8]})\n",
    "b=pd.DataFrame({'Name1':['Arpit','Adi','Lexi','Alexa'],'Age1':[21,23,20,27],'Sal1':[7.2,6.1,6.5,7.8]})\n",
    "c=pd.DataFrame({'Name':['Arpit','Adi','Lexi','Alexa'],'Age':[21,23,20,27],'Sal':[7.2,6.1,6.5,7.8]})\n",
    "print(a,'\\n')\n",
    "print(b,'\\n')\n",
    "\n",
    "c=a.join(b) #joins b on a into c\n",
    "print(c,'\\n')\n",
    "print(b.join(a),'\\n') #join a on b directly in print \n",
    "\n",
    "\n",
    "#concat\n",
    "\n",
    "conc=pd.concat([a,b]) #includes both dataframes in one\n",
    "print(conc)"
   ]
  },
  {
   "cell_type": "code",
   "execution_count": 31,
   "metadata": {},
   "outputs": [
    {
     "name": "stdout",
     "output_type": "stream",
     "text": [
      "   Age Name_x  Sal_x Name_y  Sal_y  Age1  Name1  Sal1\n",
      "0   21  Arpit    7.2  Arpit    7.2    21  Arpit   7.2\n",
      "1   23    Adi    6.1    Adi    6.1    23    Adi   6.1\n",
      "2   20   Lexi    6.5   Lexi    6.5    20   Lexi   6.5\n",
      "3   27  Alexa    7.8  Alexa    7.8    27  Alexa   7.8\n"
     ]
    }
   ],
   "source": [
    "merge=pd.merge(a,c,on=\"Age\")\n",
    "print(merge)"
   ]
  },
  {
   "cell_type": "code",
   "execution_count": 38,
   "metadata": {},
   "outputs": [
    {
     "name": "stdout",
     "output_type": "stream",
     "text": [
      "   score  year\n",
      "0   2552  2007\n",
      "1    376  2008\n",
      "2    286  2009\n",
      "3    279  2010\n",
      "--------------------\n",
      "      score\n",
      "year       \n",
      "2007   2552\n",
      "2008    376\n",
      "2009    286\n",
      "2010    279\n"
     ]
    },
    {
     "data": {
      "image/png": "[encoded data removed]",
      "text/plain": [
       "<matplotlib.figure.Figure at 0x27511de6e80>"
      ]
     },
     "metadata": {},
     "output_type": "display_data"
    }
   ],
   "source": [
    "import pandas as pdd\n",
    "import matplotlib.pyplot as plt\n",
    "from matplotlib import style\n",
    "style.use(\"fivethirtyeight\")\n",
    "dhoni_data=pd.DataFrame({\"year\":[2007,2008,2009,2010],\"score\":[2552,376,286,279]})\n",
    "print(dhoni_data)\n",
    "print(\"--------------------\")\n",
    "dhoni_data.set_index(\"year\",inplace=True)\n",
    "print(dhoni_data)\n",
    "dhoni_data.plot()\n",
    "plt.show()"
   ]
  },
  {
   "cell_type": "code",
   "execution_count": 40,
   "metadata": {},
   "outputs": [
    {
     "name": "stdout",
     "output_type": "stream",
     "text": [
      "   score  year\n",
      "0   2552  2007\n",
      "1    376  2008\n",
      "2    286  2009\n",
      "3    279  2010\n",
      "   runs  year\n",
      "0  2552  2007\n",
      "1   376  2008\n",
      "2   286  2009\n",
      "3   279  2010\n"
     ]
    }
   ],
   "source": [
    "import pandas as pd\n",
    "dhoni_data=pd.DataFrame({\"year\":[2007,2008,2009,2010],\"score\":[2552,376,286,279]})\n",
    "print(dhoni_data)\n",
    "dhoni_data=dhoni_data.rename(columns={\"score\":\"runs\"})\n",
    "print(dhoni_data)"
   ]
  },
  {
   "cell_type": "code",
   "execution_count": 42,
   "metadata": {},
   "outputs": [
    {
     "name": "stdout",
     "output_type": "stream",
     "text": [
      "  Name  Age    Sal Sex\n",
      "0    A   21   2.45   M\n",
      "1    B   23  45.67   M\n",
      "2    C   38   3.40   F\n",
      "3    D   25   8.20   F\n"
     ]
    }
   ],
   "source": [
    "import pandas as pd\n",
    "test=pd.read_csv(\"sample_data.txt\",)\n",
    "print(test)\n",
    "\n",
    "test.to_html(\"testnewform.html\")"
   ]
  },
  {
   "cell_type": "code",
   "execution_count": null,
   "metadata": {
    "collapsed": true
   },
   "outputs": [],
   "source": []
  }
 ],
 "metadata": {
  "kernelspec": {
   "display_name": "Python 3",
   "language": "python",
   "name": "python3"
  },
  "language_info": {
   "codemirror_mode": {
    "name": "ipython",
    "version": 3
   },
   "file_extension": ".py",
   "mimetype": "text/x-python",
   "name": "python",
   "nbconvert_exporter": "python",
   "pygments_lexer": "ipython3",
   "version": "3.6.3"
  }
 },
 "nbformat": 4,
 "nbformat_minor": 2
}
