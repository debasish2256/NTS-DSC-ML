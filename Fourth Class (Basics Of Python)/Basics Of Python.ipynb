{
 "cells": [
  {
   "cell_type": "code",
   "execution_count": 1,
   "metadata": {},
   "outputs": [
    {
     "name": "stdout",
     "output_type": "stream",
     "text": [
      "Hello World\n"
     ]
    }
   ],
   "source": [
    "print(\"Hello World\")"
   ]
  },
  {
   "cell_type": "code",
   "execution_count": 8,
   "metadata": {},
   "outputs": [
    {
     "name": "stdout",
     "output_type": "stream",
     "text": [
      "rakesh \n",
      "\n"
     ]
    },
    {
     "data": {
      "text/plain": [
       "'rakesh'"
      ]
     },
     "execution_count": 8,
     "metadata": {},
     "output_type": "execute_result"
    }
   ],
   "source": [
    "name=\"rakesh\"\n",
    "print(name,\"\\n\")\n",
    "name"
   ]
  },
  {
   "cell_type": "code",
   "execution_count": 12,
   "metadata": {},
   "outputs": [
    {
     "name": "stdout",
     "output_type": "stream",
     "text": [
      "Sum of 5+2 is: 7\n",
      "Sub of 5-2 is: 3\n",
      "Mul of 5*2 is: 10\n",
      "Div of 5/2 is: 2.5\n",
      "Modulo of 5/2 is: 1\n",
      "Power of 5^2 is: 25\n",
      "Integral Part of 5//2 is: 2\n"
     ]
    }
   ],
   "source": [
    "print(\"Sum of 5+2 is:\",(5+2))\n",
    "print(\"Sub of 5-2 is:\",(5-2))\n",
    "print(\"Mul of 5*2 is:\",(5*2))\n",
    "print(\"Div of 5/2 is:\",(5/2))\n",
    "print(\"Modulo of 5/2 is:\",(5%2))#shows the remainder\n",
    "print(\"Power of 5^2 is:\",(5**2))#gives power\n",
    "print(\"Integral Part of 5//2 is:\",(5//2))#gives the integral part"
   ]
  },
  {
   "cell_type": "code",
   "execution_count": 14,
   "metadata": {},
   "outputs": [
    {
     "name": "stdout",
     "output_type": "stream",
     "text": [
      "1+2-3*6: 0\n"
     ]
    }
   ],
   "source": [
    "print(\"1+2-3*6:\",((1+2-3)*6)) #follows the BODMAS rule"
   ]
  },
  {
   "cell_type": "code",
   "execution_count": 19,
   "metadata": {},
   "outputs": [
    {
     "name": "stdout",
     "output_type": "stream",
     "text": [
      "Debasish Mahana \n",
      "\n",
      "The god of cricket is Debasish Mahana\n"
     ]
    }
   ],
   "source": [
    "fname=\"Debasish\"\n",
    "lname=\"Mahana\"\n",
    "print(fname+\" \"+lname,\"\\n\")\n",
    "#format specifier\n",
    "print(\"%s %s %s\"%(\"The god of cricket is\",fname,lname))\n"
   ]
  },
  {
   "cell_type": "code",
   "execution_count": 21,
   "metadata": {},
   "outputs": [
    {
     "data": {
      "text/plain": [
       "'Thos is my Portfolio Data Storage'"
      ]
     },
     "execution_count": 21,
     "metadata": {},
     "output_type": "execute_result"
    }
   ],
   "source": [
    "#this is my personal data\n",
    "'''Thos is my Portfolio Data Storage'''"
   ]
  },
  {
   "cell_type": "code",
   "execution_count": 71,
   "metadata": {},
   "outputs": [
    {
     "name": "stdout",
     "output_type": "stream",
     "text": [
      "[1, 2, 3, 4, 5] \n",
      "\n",
      "['ram', 'dam', 'sham', 'aliar', 'amar'] \n",
      "\n",
      "dam \n",
      "\n",
      "['ram', 'dam', 'sham', 'aliar', 'amar', 8] \n",
      "\n",
      "['ram', 'dam', 'Rahim', 'sham', 'aliar', 'amar', 8] \n",
      "\n",
      "['ram', 'dam', 'Rahim', 'aliar', 'amar', 8] \n",
      "\n",
      "['ram', 'dam', 'Rahim', 'aliar', 8] \n",
      "\n",
      "['ram', 'dam', 'Rahim'] \n",
      "\n",
      "['dam', 'Rahim', 'aliar', 8]\n"
     ]
    }
   ],
   "source": [
    "a=[1,2,3,4,5]\n",
    "print(a,\"\\n\")\n",
    "str=[\"ram\",\"dam\",\"sham\",\"aliar\",\"amar\"]\n",
    "print(str,\"\\n\")\n",
    "print(str[1],\"\\n\")\n",
    "str.append(8)\n",
    "print(str,\"\\n\")\n",
    "str.insert(2,\"Rahim\")\n",
    "print(str,\"\\n\")\n",
    "str.remove(\"sham\")\n",
    "print(str,\"\\n\")\n",
    "del str[4]\n",
    "print(str,\"\\n\")\n",
    "print(str[0:3],\"\\n\")\n",
    "print(str[1:])\n",
    "\n"
   ]
  },
  {
   "cell_type": "code",
   "execution_count": 35,
   "metadata": {},
   "outputs": [
    {
     "name": "stdout",
     "output_type": "stream",
     "text": [
      "['abcd', 786, 2.23, 'john', 70.2] \n",
      "\n",
      "abcd \n",
      "\n",
      "[786, 2.23] \n",
      "\n",
      "[2.23, 'john', 70.2] \n",
      "\n",
      "[123, 'john', 123, 'john'] \n",
      "\n",
      "['abcd', 786, 2.23, 'john', 70.2, 123, 'john']\n"
     ]
    }
   ],
   "source": [
    "list = [ 'abcd', 786 , 2.23, 'john', 70.2 ]\n",
    "tinylist = [123, 'john']\n",
    "print (list,\"\\n\") # Prints complete list\n",
    "print (list[0],\"\\n\") # Prints first element of the list\n",
    "print (list[1:3],\"\\n\") # Prints elements starting from 2nd till 3rd\n",
    "print (list[2:],\"\\n\") # Prints elements starting from 3rd element\n",
    "print (tinylist * 2,\"\\n\") # Prints list two times\n",
    "print (list + tinylist) # Prints concatenated lists"
   ]
  },
  {
   "cell_type": "code",
   "execution_count": 47,
   "metadata": {},
   "outputs": [
    {
     "name": "stdout",
     "output_type": "stream",
     "text": [
      "('abcd', 786, 2.23, 'john', 70.2) \n",
      "\n",
      "abcd \n",
      "\n",
      "(786, 2.23) \n",
      "\n",
      "(2.23, 'john', 70.2) \n",
      "\n",
      "(123, 'john', 123, 'john') \n",
      "\n",
      "('abcd', 786, 2.23, 'john', 70.2, 123, 'john') \n",
      "\n"
     ]
    }
   ],
   "source": [
    "tuple = ( 'abcd', 786 , 2.23, 'john', 70.2 )\n",
    "tinytuple = (123, 'john')\n",
    "print (tuple,\"\\n\") # Prints complete list\n",
    "print (tuple[0],\"\\n\") # Prints first element of the list\n",
    "print (tuple[1:3],\"\\n\") # Prints elements starting from 2nd till 3rd\n",
    "print (tuple[2:],\"\\n\") # Prints elements starting from 3rd element\n",
    "print (tinytuple * 2,\"\\n\") # Prints list two times\n",
    "print (tuple + tinytuple,\"\\n\") # Prints concatenated lists"
   ]
  },
  {
   "cell_type": "code",
   "execution_count": 53,
   "metadata": {
    "scrolled": true
   },
   "outputs": [
    {
     "name": "stdout",
     "output_type": "stream",
     "text": [
      "This is one \n",
      "\n",
      "This is two \n",
      "\n",
      "{'name': 'john', 'code': 6734, 'dept': 'sales'} \n",
      "\n",
      "dict_keys(['name', 'code', 'dept']) \n",
      "\n",
      "dict_values(['john', 6734, 'sales']) \n",
      "\n"
     ]
    }
   ],
   "source": [
    "dict = {}\n",
    "dict['one'] = \"This is one\"\n",
    "dict[2] = \"This is two\"\n",
    "tinydict = {'name': 'john','code':6734, 'dept': 'sales'}\n",
    "print (dict['one'],\"\\n\") # Prints value for 'one' key\n",
    "print (dict[2],\"\\n\") # Prints value for 2 key\n",
    "print (tinydict,\"\\n\") # Prints complete dictionary\n",
    "print (tinydict.keys(),\"\\n\") # Prints all the keys\n",
    "print (tinydict.values(),\"\\n\") # Prints all the values"
   ]
  },
  {
   "cell_type": "code",
   "execution_count": 76,
   "metadata": {},
   "outputs": [
    {
     "name": "stdout",
     "output_type": "stream",
     "text": [
      "Line 1 - Value of c is  31\n",
      "Line 2 - Value of c is  11\n",
      "Line 3 - Value of c is  210\n",
      "Line 4 - Value of c is  2.1\n",
      "Line 5 - Value of c is  1\n",
      "Line 6 - Value of c is  8\n",
      "Line 7 - Value of c is  2\n"
     ]
    }
   ],
   "source": [
    "'''Basic Operator'''\n",
    "a = 21\n",
    "b = 10\n",
    "c = 0\n",
    "c = a + b\n",
    "print (\"Line 1 - Value of c is \", c)\n",
    "c = a - b\n",
    "print (\"Line 2 - Value of c is \", c)\n",
    "c = a * b\n",
    "print (\"Line 3 - Value of c is \", c)\n",
    "c = a / b\n",
    "print (\"Line 4 - Value of c is \", c)\n",
    "c = a % b\n",
    "print (\"Line 5 - Value of c is \", c)\n",
    "a = 2\n",
    "b = 3\n",
    "c = a**b\n",
    "print (\"Line 6 - Value of c is \", c)\n",
    "a = 10\n",
    "b = 5\n",
    "c = a//b\n",
    "print (\"Line 7 - Value of c is \", c)\n"
   ]
  },
  {
   "cell_type": "code",
   "execution_count": 79,
   "metadata": {},
   "outputs": [
    {
     "name": "stdout",
     "output_type": "stream",
     "text": [
      "[[1, 2, 3, 4], [5, 6, 7, 8]]\n",
      "[1, 2, 3, 4, 5, 6, 7, 8]\n",
      "2\n",
      "8\n"
     ]
    }
   ],
   "source": [
    "a=[1,2,3,4]\n",
    "b=[5,6,7,8]\n",
    "c=[a,b]\n",
    "print(c)\n",
    "d=a+b\n",
    "print(d)\n",
    "print(len(c))#returns lenth\n",
    "print(len(d))"
   ]
  },
  {
   "cell_type": "code",
   "execution_count": 83,
   "metadata": {},
   "outputs": [
    {
     "name": "stdout",
     "output_type": "stream",
     "text": [
      "['1', 'aliar', 'dam', 'ram', 'sham']\n",
      "['sham', 'ram', 'dam', 'aliar', '1']\n"
     ]
    }
   ],
   "source": [
    "str1=[\"ram\",\"dam\",\"sham\",\"aliar\",\"1\"]\n",
    "str1.sort()\n",
    "print(str1)\n",
    "str1.reverse()\n",
    "print(str1)"
   ]
  },
  {
   "cell_type": "code",
   "execution_count": 97,
   "metadata": {},
   "outputs": [
    {
     "name": "stdout",
     "output_type": "stream",
     "text": [
      "sham\n",
      "chandan\n",
      "[['ram', 'dam', 'sham', 'aliar', 'gopal'], ['ramu', 'chandan', 'ravana']] \n",
      "\n",
      "================\n",
      "['ramu', 'chandan', 'ravana'] \n",
      "\n",
      "['ram', 'dam', 'sham', 'aliar', 'gopal']\n"
     ]
    }
   ],
   "source": [
    "a=[\"ram\",\"dam\",\"sham\",\"aliar\",\"gopal\"]\n",
    "b=[\"ramu\",\"chandan\",\"ravana\"]\n",
    "print(max(a))\n",
    "c=a+b;\n",
    "print(min(b))\n",
    "d=[a,b]\n",
    "print(d,\"\\n\")\n",
    "print(\"================\")\n",
    "print (max(d),\"\\n\")\n",
    "print(min(d))"
   ]
  },
  {
   "cell_type": "code",
   "execution_count": 105,
   "metadata": {},
   "outputs": [
    {
     "name": "stdout",
     "output_type": "stream",
     "text": [
      "tup1[0]:  physics\n",
      "tup2[1:5]:  (2, 3, 4, 5)\n",
      "('a', 'b', 'c', 'd')\n"
     ]
    }
   ],
   "source": [
    "'''Tuple'''\n",
    "tup1 = ('physics', 'chemistry', 1997, 2000);\n",
    "tup2 = (1, 2, 3, 4, 5 );\n",
    "tup3 = \"a\", \"b\", \"c\", \"d\";\n",
    "tup=() #empty tuple\n",
    "print (\"tup1[0]: \", tup1[0])\n",
    "print (\"tup2[1:5]: \", tup2[1:5])\n",
    "print(tup3)"
   ]
  },
  {
   "cell_type": "code",
   "execution_count": 106,
   "metadata": {},
   "outputs": [
    {
     "name": "stdout",
     "output_type": "stream",
     "text": [
      "(12, 34.56, 'abc', 'xyz')\n"
     ]
    }
   ],
   "source": [
    "tup1 = (12, 34.56);\n",
    "tup2 = ('abc', 'xyz');\n",
    "# Following action is not valid for tuples\n",
    "# tup1[0] = 100;\n",
    "# So let's create a new tuple as follows\n",
    "tup3 = tup1 + tup2;\n",
    "print (tup3);"
   ]
  },
  {
   "cell_type": "code",
   "execution_count": 125,
   "metadata": {},
   "outputs": [
    {
     "name": "stdout",
     "output_type": "stream",
     "text": [
      "{1: 'ram', 2: 'hari', 3: 'rahim'}\n",
      "{1: 'ram', 2: 'hari', 3: 'rahim', 4: 'gopal'}\n",
      "{1: 'sita', 2: 'hari', 3: 'rahim', 4: 'gopal'}\n",
      "hari\n",
      "dict_keys([1, 2, 3, 4])\n",
      "dict_values(['sita', 'hari', 'rahim', 'gopal'])\n"
     ]
    }
   ],
   "source": [
    "#Dictionary\n",
    "mydic={1:\"ram\",2:\"hari\",3:\"rahim\"}\n",
    "print(mydic)\n",
    "mydic[4]=\"gopal\"\n",
    "print(mydic)\n",
    "mydic[1]=\"sita\"\n",
    "print(mydic)\n",
    "#get\n",
    "print(mydic.get(2))\n",
    "print(mydic.keys())\n",
    "print(mydic.values())"
   ]
  },
  {
   "cell_type": "code",
   "execution_count": 127,
   "metadata": {},
   "outputs": [
    {
     "name": "stdout",
     "output_type": "stream",
     "text": [
      "age 16\n"
     ]
    }
   ],
   "source": [
    "#Else -If Statement\n",
    "a=16\n",
    "if a>=17:\n",
    "    print(\"Above 18\")\n",
    "elif a==16:\n",
    "    print(\"age 16\")\n",
    "else:\n",
    "    print(\"Invalid Age\")"
   ]
  },
  {
   "cell_type": "code",
   "execution_count": 129,
   "metadata": {},
   "outputs": [
    {
     "name": "stdout",
     "output_type": "stream",
     "text": [
      "1 - Got a true expression value\n",
      "100\n",
      "Good bye!\n"
     ]
    }
   ],
   "source": [
    "var1 = 100\n",
    "if var1:\n",
    "    print (\"1 - Got a true expression value\")\n",
    "    print (var1)\n",
    "var2 = 0\n",
    "if var2:\n",
    "    print (\"2 - Got a true expression value\")\n",
    "    print (var2)\n",
    "print (\"Good bye!\")"
   ]
  },
  {
   "cell_type": "code",
   "execution_count": 133,
   "metadata": {},
   "outputs": [
    {
     "name": "stdout",
     "output_type": "stream",
     "text": [
      "1 - Got a true expression value\n",
      "100\n",
      "2 - Got a false expression value\n",
      "0\n",
      "Good bye!\n"
     ]
    }
   ],
   "source": [
    "#If…else Statement\n",
    "var1 = 100\n",
    "if var1:\n",
    "    print (\"1 - Got a true expression value\")\n",
    "    print (var1)\n",
    "else:\n",
    "    print (\"1 - Got a false expression value\")\n",
    "    print (var1)\n",
    "var2 = 0\n",
    "if var2:\n",
    "    print (\"2 - Got a true expression value\")\n",
    "    print (var2)\n",
    "else:\n",
    "    print (\"2 - Got a false expression value\")\n",
    "    print (var2)\n",
    "print (\"Good bye!\")"
   ]
  },
  {
   "cell_type": "code",
   "execution_count": 137,
   "metadata": {},
   "outputs": [
    {
     "name": "stdout",
     "output_type": "stream",
     "text": [
      "3 - Got a true expression value\n",
      "100\n",
      "Good bye!\n"
     ]
    }
   ],
   "source": [
    "#The elif Statement\n",
    "var = 100\n",
    "if var == 200:\n",
    "    print (\"1 - Got a true expression value\")\n",
    "    print (var)\n",
    "elif var == 150:\n",
    "    print (\"2 - Got a true expression value\")\n",
    "    print (var)\n",
    "elif var == 100:\n",
    "    print (\"3 - Got a true expression value\")\n",
    "    print (var)\n",
    "else:\n",
    "    print (\"4 - Got a false expression value\")\n",
    "    print (var)\n",
    "print (\"Good bye!\")"
   ]
  },
  {
   "cell_type": "code",
   "execution_count": 141,
   "metadata": {},
   "outputs": [
    {
     "name": "stdout",
     "output_type": "stream",
     "text": [
      "Value of expression is 100\n",
      "Good bye!\n"
     ]
    }
   ],
   "source": [
    "#Single Statement Suites\n",
    "var = 100\n",
    "if ( var == 100 ) : print (\"Value of expression is 100\")\n",
    "print (\"Good bye!\")"
   ]
  },
  {
   "cell_type": "code",
   "execution_count": null,
   "metadata": {
    "collapsed": true
   },
   "outputs": [],
   "source": []
  }
 ],
 "metadata": {
  "kernelspec": {
   "display_name": "Python 3",
   "language": "python",
   "name": "python3"
  },
  "language_info": {
   "codemirror_mode": {
    "name": "ipython",
    "version": 3
   },
   "file_extension": ".py",
   "mimetype": "text/x-python",
   "name": "python",
   "nbconvert_exporter": "python",
   "pygments_lexer": "ipython3",
   "version": "3.6.3"
  }
 },
 "nbformat": 4,
 "nbformat_minor": 2
}
