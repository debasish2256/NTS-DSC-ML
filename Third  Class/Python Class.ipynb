{
 "cells": [
  {
   "cell_type": "code",
   "execution_count": 4,
   "metadata": {},
   "outputs": [
    {
     "name": "stdout",
     "output_type": "stream",
     "text": [
      "[[1 2 3]\n",
      " [3 4 5]]\n"
     ]
    }
   ],
   "source": [
    "import numpy as np\n",
    "a=np.array([(1,2,3),(3,4,5)])\n",
    "print(a)"
   ]
  },
  {
   "cell_type": "code",
   "execution_count": 8,
   "metadata": {},
   "outputs": [
    {
     "name": "stdout",
     "output_type": "stream",
     "text": [
      "[[1 2 3]\n",
      " [3 4 5]\n",
      " [7 8 9]]\n",
      "2\n",
      "9\n",
      "4\n"
     ]
    }
   ],
   "source": [
    "import numpy as np\n",
    "a=np.array([(1,2,3),(3,4,5),(7,8,9)])\n",
    "print(a)\n",
    "print(a.ndim) #dimension of array\n",
    "print(a.size)  #size of array\n",
    "print(a.itemsize)  #size of data used"
   ]
  },
  {
   "cell_type": "code",
   "execution_count": 52,
   "metadata": {},
   "outputs": [
    {
     "name": "stdout",
     "output_type": "stream",
     "text": [
      "(2, 4)\n"
     ]
    }
   ],
   "source": [
    "print(a.shape)"
   ]
  },
  {
   "cell_type": "code",
   "execution_count": 48,
   "metadata": {},
   "outputs": [
    {
     "name": "stdout",
     "output_type": "stream",
     "text": [
      "[[1 2]\n",
      " [3 3]\n",
      " [4 5]]\n"
     ]
    }
   ],
   "source": [
    "#changing shape\n",
    "b=np.array([(1,2,3),(3,4,5)])\n",
    "print(b.reshape(3,2)) # change of dimension"
   ]
  },
  {
   "cell_type": "code",
   "execution_count": 49,
   "metadata": {},
   "outputs": [
    {
     "name": "stdout",
     "output_type": "stream",
     "text": [
      "2\n"
     ]
    }
   ],
   "source": [
    "#selecting an elemnt\n",
    "print(a[0,1])"
   ]
  },
  {
   "cell_type": "code",
   "execution_count": 19,
   "metadata": {},
   "outputs": [
    {
     "name": "stdout",
     "output_type": "stream",
     "text": [
      "[[ 1  2  3  4]\n",
      " [ 3  4  5  6]\n",
      " [ 7  8  9 10]]\n",
      "[3]\n"
     ]
    }
   ],
   "source": [
    "c=np.array([(1,2,3,4),(3,4,5,6),(7,8,9,10)])\n",
    "print(c)\n",
    "print(c[0:1,2])"
   ]
  },
  {
   "cell_type": "code",
   "execution_count": 20,
   "metadata": {},
   "outputs": [
    {
     "data": {
      "text/plain": [
       "dtype('int32')"
      ]
     },
     "execution_count": 20,
     "metadata": {},
     "output_type": "execute_result"
    }
   ],
   "source": [
    "c.dtype"
   ]
  },
  {
   "cell_type": "code",
   "execution_count": 21,
   "metadata": {},
   "outputs": [
    {
     "name": "stdout",
     "output_type": "stream",
     "text": [
      "[[ 1  2  3  4]\n",
      " [ 3  4  5  6]\n",
      " [ 7  8  9 10]]\n",
      "[ 6 10]\n"
     ]
    }
   ],
   "source": [
    "d=np.array([(1,2,3,4),(3,4,5,6),(7,8,9,10)])\n",
    "print(d)\n",
    "print(d[1:3,3])"
   ]
  },
  {
   "cell_type": "code",
   "execution_count": 35,
   "metadata": {},
   "outputs": [
    {
     "name": "stdout",
     "output_type": "stream",
     "text": [
      "[[1 2 3 4]\n",
      " [4 5 6 7]]\n",
      "1\n",
      "7\n",
      "32\n",
      "[ 5  7  9 11] \n",
      "\n",
      "[10 22] \n",
      "\n"
     ]
    }
   ],
   "source": [
    "a=np.array(([1,2,3,4],[4,5,6,7]))\n",
    "print(a)\n",
    "print(a.min())\n",
    "print(a.max())\n",
    "print(a.sum())\n",
    "\n",
    "#axis sum\n",
    "print(a.sum(axis=0),'\\n')#column wise\n",
    "print(a.sum(axis=1),'\\n')#row wise"
   ]
  },
  {
   "cell_type": "code",
   "execution_count": 34,
   "metadata": {},
   "outputs": [
    {
     "data": {
      "text/plain": [
       "(2, 4)"
      ]
     },
     "execution_count": 34,
     "metadata": {},
     "output_type": "execute_result"
    }
   ],
   "source": [
    "a.shape"
   ]
  },
  {
   "cell_type": "code",
   "execution_count": 39,
   "metadata": {},
   "outputs": [
    {
     "name": "stdout",
     "output_type": "stream",
     "text": [
      "[[1 2 3 4]\n",
      " [4 5 6 7]] \n",
      "\n",
      "[[ 1.          1.41421356  1.73205081  2.        ]\n",
      " [ 2.          2.23606798  2.44948974  2.64575131]]\n"
     ]
    }
   ],
   "source": [
    "#square-root of each element\n",
    "print(a,'\\n')\n",
    "print(np.sqrt(a))"
   ]
  },
  {
   "cell_type": "code",
   "execution_count": 42,
   "metadata": {},
   "outputs": [
    {
     "name": "stdout",
     "output_type": "stream",
     "text": [
      "1.87082869339\n"
     ]
    }
   ],
   "source": [
    "#mean\n",
    "#variance is the deviation  from mean\n",
    "print(np.std(a)) #std stands for standard deviation"
   ]
  },
  {
   "cell_type": "code",
   "execution_count": 53,
   "metadata": {},
   "outputs": [
    {
     "data": {
      "text/plain": [
       "array([5, 7, 9])"
      ]
     },
     "execution_count": 53,
     "metadata": {},
     "output_type": "execute_result"
    }
   ],
   "source": [
    "ary1 = np.array([1, 2, 3])\n",
    "ary2 = np.array([4, 5, 6])\n",
    "\n",
    "ary1 + ary2"
   ]
  },
  {
   "cell_type": "code",
   "execution_count": 57,
   "metadata": {},
   "outputs": [
    {
     "name": "stdout",
     "output_type": "stream",
     "text": [
      "[[ 2  4  6  8]\n",
      " [ 8 10 12 14]] \n",
      "\n",
      "[[0 0 0 0]\n",
      " [0 0 0 0]] \n",
      "\n",
      "[[ 1.  1.  1.  1.]\n",
      " [ 1.  1.  1.  1.]] \n",
      "\n",
      "[[ 1  4  9 16]\n",
      " [16 25 36 49]] \n",
      "\n"
     ]
    }
   ],
   "source": [
    "#add,sub,div,mul\n",
    "a=np.array([(1,2,3,4),(4,5,6,7)])\n",
    "b=np.array([(1,2,3,4),(4,5,6,7)])\n",
    "print(a+b,'\\n')\n",
    "print(a-b,'\\n')\n",
    "print(a/b,'\\n')\n",
    "print(a*b,'\\n')"
   ]
  },
  {
   "cell_type": "code",
   "execution_count": 84,
   "metadata": {},
   "outputs": [
    {
     "name": "stdout",
     "output_type": "stream",
     "text": [
      "[[1 2 3 4]\n",
      " [4 5 6 7]]\n",
      "[[1 2 3 4]\n",
      " [4 5 6 7]] \n",
      "\n",
      "====================\n",
      "[[1 2 3 4]\n",
      " [4 5 6 7]\n",
      " [1 2 3 4]\n",
      " [4 5 6 7]] \n",
      "\n",
      "====================\n",
      "[[1 2 3 4 1 2 3 4]\n",
      " [4 5 6 7 4 5 6 7]] \n",
      "\n",
      "====================\n",
      "[1 2 3 4 4 5 6 7]\n",
      "====================\n",
      "[1 2 3 4 4 5 6 7]\n"
     ]
    }
   ],
   "source": [
    "#vertical stack & horizontal stack\n",
    "print(a)\n",
    "print(b,'\\n')\n",
    "print('====================')\n",
    "print(np.vstack((a,b)),'\\n') #vertical stack\n",
    "print('====================')\n",
    "print(np.hstack((a,b)),'\\n') #horizontal stack\n",
    "#ravel:print in single line\n",
    "print('====================')\n",
    "print(a.ravel())  \n",
    "print('====================')\n",
    "print(b.ravel())\n"
   ]
  },
  {
   "cell_type": "code",
   "execution_count": 73,
   "metadata": {},
   "outputs": [
    {
     "name": "stdout",
     "output_type": "stream",
     "text": [
      "[[1 2 3 4]\n",
      " [4 5 6 7]] \n",
      "\n"
     ]
    },
    {
     "data": {
      "text/plain": [
       "array([[1, 4],\n",
       "       [2, 5],\n",
       "       [3, 6],\n",
       "       [4, 7]])"
      ]
     },
     "execution_count": 73,
     "metadata": {},
     "output_type": "execute_result"
    }
   ],
   "source": [
    "#transpose of matrix\n",
    "print(a,'\\n')\n",
    "a.transpose()\n"
   ]
  },
  {
   "cell_type": "code",
   "execution_count": 87,
   "metadata": {},
   "outputs": [
    {
     "name": "stdout",
     "output_type": "stream",
     "text": [
      "[ 2  4  6  8 10 12 14 16 18]\n",
      "range(0, 20)\n"
     ]
    }
   ],
   "source": [
    "#arange(start,stop,step,dtype)\n",
    "import numpy as np\n",
    "x=np.arange(2,20,2)\n",
    "print(x)\n",
    "#Range\n",
    "a=range(20)\n",
    "print(a)"
   ]
  },
  {
   "cell_type": "code",
   "execution_count": 110,
   "metadata": {},
   "outputs": [
    {
     "data": {
      "image/png": "[encoded data removed]",
      "text/plain": [
       "<matplotlib.figure.Figure at 0x124ff825358>"
      ]
     },
     "metadata": {},
     "output_type": "display_data"
    }
   ],
   "source": [
    "#plotting graphs\n",
    "import matplotlib.pyplot as plt\n",
    "x=np.arange(0,8,0.1)\n",
    "y=np.sin(x)\n",
    "z=np.cos(x)\n",
    "plt.plot(x,y)\n",
    "plt.plot(x,z)\n",
    "plt.show()"
   ]
  },
  {
   "cell_type": "code",
   "execution_count": 106,
   "metadata": {},
   "outputs": [
    {
     "name": "stdout",
     "output_type": "stream",
     "text": [
      "[[   2.71828183    7.3890561    20.08553692]\n",
      " [  20.08553692   54.59815003  148.4131591 ]] \n",
      "\n",
      "[[ 0.          0.69314718  1.09861229]\n",
      " [ 1.09861229  1.38629436  1.60943791]]\n"
     ]
    }
   ],
   "source": [
    "#Exponential\n",
    "import numpy as np\n",
    "ar=np.array([[1,2,3],[3,4,5]])\n",
    "print(np.exp(ar),'\\n')\n",
    "\n",
    "print(np.log(ar))"
   ]
  },
  {
   "cell_type": "code",
   "execution_count": null,
   "metadata": {
    "collapsed": true
   },
   "outputs": [],
   "source": []
  }
 ],
 "metadata": {
  "kernelspec": {
   "display_name": "Python 3",
   "language": "python",
   "name": "python3"
  },
  "language_info": {
   "codemirror_mode": {
    "name": "ipython",
    "version": 3
   },
   "file_extension": ".py",
   "mimetype": "text/x-python",
   "name": "python",
   "nbconvert_exporter": "python",
   "pygments_lexer": "ipython3",
   "version": "3.6.3"
  }
 },
 "nbformat": 4,
 "nbformat_minor": 2
}
